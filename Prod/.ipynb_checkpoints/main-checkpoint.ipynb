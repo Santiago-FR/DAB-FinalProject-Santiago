{
 "cells": [
  {
   "cell_type": "markdown",
   "metadata": {},
   "source": [
    " # DATA ANALYTICS BOOT CAMP\n",
    " ## Final Project - Santiago Facundo"
   ]
  },
  {
   "cell_type": "markdown",
   "metadata": {},
   "source": [
    "### Dependencies"
   ]
  },
  {
   "cell_type": "code",
   "execution_count": 1,
   "metadata": {},
   "outputs": [],
   "source": [
    "import pandas as pd\n",
    "import numpy as np\n",
    "import requests\n",
    "import json\n",
    "import xml.etree.cElementTree as et\n",
    "from pandas.io.json import json_normalize\n",
    "from sqlalchemy import create_engine\n",
    "from sqlalchemy import Column, Integer, String, Float\n",
    "from sqlalchemy.ext.declarative import declarative_base\n",
    "Base = declarative_base()\n",
    "import numpy as np\n",
    "\n",
    "Base = declarative_base()\n",
    "# Google developer API key, Yelp key\n",
    "from config import gkey, ykey\n"
   ]
  },
  {
   "cell_type": "markdown",
   "metadata": {},
   "source": [
    "### Data Collection Google API"
   ]
  },
  {
   "cell_type": "code",
   "execution_count": null,
   "metadata": {},
   "outputs": [],
   "source": [
    "# Target for test\n",
    "target = \"ARTILLERY PARK HERITAGE SITE\"\n",
    "\n",
    "# Endpoint URL\n",
    "target_url = ('https://maps.googleapis.com/maps/api/geocode/json?'\n",
    "    'address={0}&key={1}').format(target, gkey)\n",
    "\n",
    "# Run request to endpoint and convert to json\n",
    "geo_data = requests.get(target_url).json()\n",
    "\n",
    "# Print the json (pretty printed)\n",
    "print(json.dumps(geo_data, indent=4, sort_keys=True))"
   ]
  },
  {
   "cell_type": "code",
   "execution_count": null,
   "metadata": {},
   "outputs": [],
   "source": [
    "# locate and Extract latitude and longitude\n",
    "lat = geo_data[\"results\"][0][\"geometry\"][\"location\"][\"lat\"]\n",
    "lng = geo_data[\"results\"][0][\"geometry\"][\"location\"][\"lng\"]\n",
    "# Print the latitude and longitude\n",
    "print('''\n",
    "    site: {0}\n",
    "    Latitude: {1}\n",
    "    Longitude: {2}\n",
    "    '''.format(target, lat, lng))"
   ]
  },
  {
   "cell_type": "code",
   "execution_count": null,
   "metadata": {},
   "outputs": [],
   "source": [
    "# Get list of all National Parks and Historic sites\n",
    "parsedXML = et.parse( \"parksid.xml\" )"
   ]
  },
  {
   "cell_type": "code",
   "execution_count": null,
   "metadata": {},
   "outputs": [],
   "source": [
    "def getvalueofnode(node):\n",
    "    \"\"\" return node text or None \"\"\"\n",
    "    return node.text if node is not None else None\n",
    "\n",
    "dfcols = ['Site_Id', 'Site_Name']\n",
    "df_xml = pd.DataFrame(columns=dfcols)\n",
    "\n",
    "\n",
    "for node in parsedXML.getroot():\n",
    "    Site_Id = node.find('ZPARK_ID')\n",
    "    Site_Name = node.find('UP_ENG_FULL')\n",
    "    \n",
    "    df_xml = df_xml.append(pd.Series([getvalueofnode(Site_Id), getvalueofnode(Site_Name)], index=dfcols), ignore_index=True)\n",
    " \n",
    "#     print (df_xml)"
   ]
  },
  {
   "cell_type": "code",
   "execution_count": null,
   "metadata": {},
   "outputs": [],
   "source": [
    "len(df_xml[\"Site_Name\"])"
   ]
  },
  {
   "cell_type": "code",
   "execution_count": null,
   "metadata": {},
   "outputs": [],
   "source": [
    "Latitude =[]\n",
    "Longitude =[]\n",
    "Site_name =[]\n",
    "NPH = df_xml[\"Site_Name\"]"
   ]
  },
  {
   "cell_type": "code",
   "execution_count": null,
   "metadata": {
    "scrolled": true
   },
   "outputs": [],
   "source": [
    "for i in NPH:\n",
    "    url = ('https://maps.googleapis.com/maps/api/geocode/json?'\n",
    "    'address={0}&key={1}').format(i, gkey)\n",
    "    s_data = requests.get(url).json()\n",
    "    try:\n",
    "        Site_name.append(s_data[\"results\"][0][\"address_components\"][0][\"long_name\"])\n",
    "        Latitude.append(s_data[\"results\"][0][\"geometry\"][\"location\"][\"lat\"])\n",
    "        Longitude.append(s_data[\"results\"][0][\"geometry\"][\"location\"][\"lng\"])\n",
    "    except IndexError as e:\n",
    "        print (e)"
   ]
  },
  {
   "cell_type": "code",
   "execution_count": null,
   "metadata": {},
   "outputs": [],
   "source": [
    "len(Latitude),len(Longitude),len(Site_name)"
   ]
  },
  {
   "cell_type": "code",
   "execution_count": null,
   "metadata": {},
   "outputs": [],
   "source": [
    "# Setup a dataframe to store results\n",
    "columns = ['Site_name', 'Latitude','Longitude']\n",
    "NPH_df = pd.DataFrame(columns=columns)\n",
    "\n",
    "NPH_df['Site_name'] = Site_name\n",
    "NPH_df['Latitude'] = Latitude\n",
    "NPH_df['Longitude'] = Longitude\n",
    "\n",
    "NPH_df.head()"
   ]
  },
  {
   "cell_type": "code",
   "execution_count": null,
   "metadata": {},
   "outputs": [],
   "source": [
    "# Write dataframe to csv\n",
    "# NHP has dirty data not good just showing the work done.\n",
    "# NPH_df.to_csv(r'NPH.csv')\n"
   ]
  },
  {
   "cell_type": "code",
   "execution_count": null,
   "metadata": {},
   "outputs": [],
   "source": [
    "# Curated lists of Provitial Parks and National Parks for Ontario\n",
    "PPont =[\"Aaron Provincial Park\",\"Algonquin Provincial Park\",\"Arrowhead Provincial Park\",\"Arrow Lake Provincial Park\",\"Awenda Provincial Park\",\"Balsam Lake Provincial Park\",\"Bass Lake Provincial Park\",\"Batchawana Bay Provincial Park\",\"Biscotasi Lake Provincial Park\",\"Blue Lake Provincial Park\",\"Bon Echo Provincial Park\",\"Bonnechere Provincial Park\",\"Bronte Creek Provincial Park\",\"Caliper Lake Provincial Park\",\"Charleston Lake Provincial Park\",\"Chutes Provincial Park\",\"Craigleith Provincial Park\",\"Darlington Provincial Park\",\"Driftwood Provincial Park\",\"Earl Rowe Provincial Park\",\"Emily Provincial Park\",\"Esker Lakes Provincial Park\",\"Fairbank Provincial Park\",\"Ferris Provincial Park\",\"Finlayson Point Provincial Park\",\"Fitzroy Provincial Park\",\"Forks of the Credit Provincial Park\",\"French River Provincial Park\",\"Frontenac Provincial Park\",\"Fushimi Lake Provincial Park\",\"Grundy Lake Provincial Park\",\"Halfway Lake Provincial Park\",\"Inverhuron Provincial Park\",\"Ivanhoe Lake Provincial Park\",\"John E. Pearce Provincial Park\",\"Kakabeka Falls Provincial Park\",\"Kap-Kig-Iwan Provincial Park\",\"Kawartha Highlands Provincial Park\",\"Kettle Lakes Provincial Park\",\"Killarney Provincial Park\",\"Killbear Provincial Park\",\"Komoka Provincial Park\",\"Lady Evelyn-Smoothwater Provincial Park\",\"Lake on the Mountain Provincial Park\",\"Lake St. Peter Provincial Park\",\"Lake Superior Provincial Park\",\"Long Point Provincial Park\",\"MacGregor Point Provincial Park\",\"MacLeod Provincial Park\",\"Makobe-Grays River Provincial Park\",\"Mara Provincial Park\",\"Mark S. Burnham Provincial Park\",\"Marten River Provincial Park\",\"McRae Point Provincial Park\",\"Mikisew Provincial Park\",\"Misery Bay Provincial Park\",\"Missinaibi Provincial Park\",\"Mississagi Provincial Park\",\"Mono Cliffs Provincial Park\",\"Murphys Point Provincial Park\",\"Nagagamisis Provincial Park\",\"Neys Provincial Park\",\"North Beach Provincial Park\",\"Oastler Lake Provincial Park\",\"Obabika River Provincial Park\",\"Ojibway Provincial Park\",\"Ouimet Canyon Provincial Park\",\"Oxtongue River - Ragged Falls Provincial Park\",\"Pakwash Provincial Park\",\"Pancake Bay Provincial Park\",\"Petroglyphs Provincial Park\",\"Pigeon River Provincial Park\",\"Pinery Provincial Park\",\"Point Farms Provincial Park\",\"Port Bruce Provincial Park\",\"Port Burwell Provincial Park\",\"Potholes Provincial Park\",\"Presqu'ile Provincial Park\",\"Quetico Provincial Park\",\"Rainbow Falls Provincial Park\",\"René Brunelle Provincial Park\",\"Restoule Provincial Park\",\"Rideau River Provincial Park\",\"Rock Point Provincial Park\",\"Rondeau Provincial Park\",\"Rushing River Provincial Park\",\"Samuel De Champlain Provincial Park\",\"Sandbanks Provincial Park\",\"Sandbar Lake Provincial Park\",\"Sauble Falls Provincial Park\",\"Selkirk Provincial Park\",\"Sharbot Lake Provincial Park\",\"Sibbald Point Provincial Park\",\"Silent Lake Provincial Park\",\"Silver Falls Provincial Park\",\"Silver Lake Provincial Park\",\"Sioux Narrows Provincial Park\",\"Six Mile Lake Provincial Park\",\"Sleeping Giant Provincial Park\",\"Solace Provincial Park\",\"Spanish River Provincial Park\",\"Springwater Provincial Park\",\"Sturgeon Bay Provincial Park\",\"Sturgeon River Provincial Park\",\"The Massasauga Provincial Park\",\"Tidewater Provincial Park\",\"Turkey Point Provincial Park\",\"Voyageur Provincial Park\",\"Wabakimi Provincial Park\",\"Wakami Lake Provincial Park\",\"Wasaga Beach Provincial Park\",\"Wheatley Provincial Park\",\"White Lake Provincial Park\",\"Windy Lake Provincial Park\",\"Woodland Caribou Provincial Park\"]\n",
    "NPont= [\"THOUSAND ISLANDS NATIONAL PARK OF CANADA\",\"POINT PELEE NATIONAL PARK OF CANADA\",\"GEORGIAN BAY ISLANDS NATIONAL PARK OF CANADA\",\"PUKASKWA NATIONAL PARK OF CANADA\",\"BRUCE PENINSULA NATIONAL PARK OF CANADA\"]\n",
    "len(PPont),len(NPont)"
   ]
  },
  {
   "cell_type": "code",
   "execution_count": null,
   "metadata": {},
   "outputs": [],
   "source": [
    "# Setup lists for data extraction\n",
    "Ont_Site_name =[]\n",
    "Ont_Latitude =[]\n",
    "Ont_Longitude =[]"
   ]
  },
  {
   "cell_type": "code",
   "execution_count": null,
   "metadata": {},
   "outputs": [],
   "source": [
    "for i in PPont:\n",
    "    url = ('https://maps.googleapis.com/maps/api/geocode/json?'\n",
    "    'address={0}&key={1}').format(i, gkey)\n",
    "    s_data = requests.get(url).json()\n",
    "    try:\n",
    "        Ont_Site_name.append(s_data[\"results\"][0][\"address_components\"][0][\"long_name\"])\n",
    "        Ont_Latitude.append(s_data[\"results\"][0][\"geometry\"][\"location\"][\"lat\"])\n",
    "        Ont_Longitude.append(s_data[\"results\"][0][\"geometry\"][\"location\"][\"lng\"])\n",
    "    except IndexError as e:\n",
    "        print (e)"
   ]
  },
  {
   "cell_type": "code",
   "execution_count": null,
   "metadata": {},
   "outputs": [],
   "source": [
    "for i in NPont:\n",
    "    url = ('https://maps.googleapis.com/maps/api/geocode/json?'\n",
    "    'address={0}&key={1}').format(i, gkey)\n",
    "    s_data = requests.get(url).json()\n",
    "    try:\n",
    "        Ont_Site_name.append(s_data[\"results\"][0][\"address_components\"][0][\"long_name\"])\n",
    "        Ont_Latitude.append(s_data[\"results\"][0][\"geometry\"][\"location\"][\"lat\"])\n",
    "        Ont_Longitude.append(s_data[\"results\"][0][\"geometry\"][\"location\"][\"lng\"])\n",
    "    except IndexError as e:\n",
    "        print (e)"
   ]
  },
  {
   "cell_type": "code",
   "execution_count": null,
   "metadata": {},
   "outputs": [],
   "source": [
    "columns = ['Site_name', 'Latitude','Longitude']\n",
    "ont_all_parks_df = pd.DataFrame(columns=columns)\n",
    "\n",
    "ont_all_parks_df['Site_name'] = Ont_Site_name\n",
    "ont_all_parks_df['Latitude'] = Ont_Latitude\n",
    "ont_all_parks_df['Longitude'] = Ont_Longitude"
   ]
  },
  {
   "cell_type": "code",
   "execution_count": null,
   "metadata": {},
   "outputs": [],
   "source": [
    "ont_all_parks_df.head()"
   ]
  },
  {
   "cell_type": "code",
   "execution_count": null,
   "metadata": {},
   "outputs": [],
   "source": [
    "# ont_all_parks_df.to_csv(r'All_ONT_PARKS.csv')"
   ]
  },
  {
   "cell_type": "markdown",
   "metadata": {},
   "source": [
    "### A bit of web scraping using pandas"
   ]
  },
  {
   "cell_type": "code",
   "execution_count": null,
   "metadata": {
    "scrolled": true
   },
   "outputs": [],
   "source": [
    "# Get National Historic Sites from web using Pandas\n",
    "nat_historic_sites_df =pd.read_html('https://en.wikipedia.org/wiki/List_of_National_Historic_Sites_of_Canada_in_Ontario')[1]\n",
    "nat_historic_sites_df.head()"
   ]
  },
  {
   "cell_type": "code",
   "execution_count": null,
   "metadata": {},
   "outputs": [],
   "source": [
    "# nat_historic_sites_df.to_csv(r'NAT_HIST_SITES.csv')"
   ]
  },
  {
   "cell_type": "code",
   "execution_count": null,
   "metadata": {},
   "outputs": [],
   "source": [
    "# Collect and record all historic cites for cities in Ontario\n",
    "\n",
    "historic_Ottawa_df = pd.read_html('https://en.wikipedia.org/wiki/List_of_National_Historic_Sites_of_Canada_in_Ottawa')[1]\n",
    "historic_Niagara_df = pd.read_html('https://en.wikipedia.org/wiki/List_of_National_Historic_Sites_of_Canada_in_Niagara_Region')[1]\n",
    "historic_Kingston_df = pd.read_html('https://en.wikipedia.org/wiki/List_of_National_Historic_Sites_of_Canada_in_Kingston,_Ontario')[1]\n",
    "historic_Hamilton_df = pd.read_html('https://en.wikipedia.org/wiki/List_of_National_Historic_Sites_of_Canada_in_Hamilton,_Ontario')[1]\n",
    "historic_Toronto_df =pd.read_html('https://en.wikipedia.org/wiki/List_of_National_Historic_Sites_of_Canada_in_Toronto')[1]\n",
    "\n",
    "# historic_Ottawa_df.to_csv(r'HIST_SITES_OTTAWA.csv')\n",
    "# historic_Niagara_df.to_csv(r'HIST_SITES_NIAGARA.csv')\n",
    "# historic_Kingston_df.to_csv(r'HIST_SITES_KINGSTON.csv')\n",
    "# historic_Hamilton_df.to_csv(r'HIST_SITES_HAMILTON.csv')\n",
    "# historic_Toronto_df.to_csv(r'HIST_SITES_TORONTO.csv')"
   ]
  },
  {
   "cell_type": "code",
   "execution_count": null,
   "metadata": {},
   "outputs": [],
   "source": [
    "# Collect and record Ontario Museums infomration\n",
    "museums_Ontario_df = pd.read_html('https://en.wikipedia.org/wiki/List_of_museums_in_Ontario')[0]\n",
    "museums_Ontario_df.head()\n",
    "# museums_Ontario_df.to_csv(r'MUSEUMS_ONTARIO.csv')"
   ]
  },
  {
   "cell_type": "markdown",
   "metadata": {},
   "source": [
    "### Some more Google API"
   ]
  },
  {
   "cell_type": "code",
   "execution_count": null,
   "metadata": {},
   "outputs": [],
   "source": [
    "# Get museum coordinates\n",
    "\n",
    "OMUSE_name =[]\n",
    "OMUSE_Latitude =[]\n",
    "OMUSE_Longitude =[]\n",
    "\n",
    "MUSE = museums_Ontario_df['Name']\n",
    "\n",
    "for i in MUSE:\n",
    "    url = ('https://maps.googleapis.com/maps/api/geocode/json?'\n",
    "    'address={0}&key={1}').format(i, gkey)\n",
    "    s_data = requests.get(url).json()\n",
    "    try:\n",
    "        OMUSE_name.append(s_data[\"results\"][0][\"address_components\"][0][\"long_name\"])\n",
    "        OMUSE_Latitude.append(s_data[\"results\"][0][\"geometry\"][\"location\"][\"lat\"])\n",
    "        OMUSE_Longitude.append(s_data[\"results\"][0][\"geometry\"][\"location\"][\"lng\"])\n",
    "    except IndexError as e:\n",
    "        print (e)"
   ]
  },
  {
   "cell_type": "code",
   "execution_count": null,
   "metadata": {},
   "outputs": [],
   "source": [
    "# setup Museum DF\n",
    "\n",
    "columns = ['Site_name', 'Latitude','Longitude']\n",
    "ont_museums_df = pd.DataFrame(columns=columns)\n",
    "\n",
    "ont_museums_df['Site_name'] = OMUSE_name\n",
    "ont_museums_df['Latitude'] = OMUSE_Latitude\n",
    "ont_museums_df['Longitude'] = OMUSE_Longitude"
   ]
  },
  {
   "cell_type": "code",
   "execution_count": null,
   "metadata": {},
   "outputs": [],
   "source": [
    "# ont_museums_df.to_csv(r'ALL__ONT_MUSEUMS.csv')\n",
    "# Dirty Data not good "
   ]
  },
  {
   "cell_type": "markdown",
   "metadata": {},
   "source": [
    "### Data collection Yelp API"
   ]
  },
  {
   "cell_type": "code",
   "execution_count": null,
   "metadata": {},
   "outputs": [],
   "source": [
    "# start using Yelp to collect data\n",
    "# curated list of cities\n",
    "cities = [\"St. George, Ontario\",\"Kingston, Ontario\",\"Whitney, Ontario\",\"Sarnia, Ontario\",\"Napanee, Ontario\",\"Ameliasburgh, Ontario\",\"Lively, Ontario\",\"Tillsonburg, Ontario\",\"Vankleek Hill, Ontario\",\"Arkona, Ontario\",\"Arnprior, Ontario\",\"Sault Ste. Marie, Ontario\",\"Hamilton, Ontario\",\"Mississauga, Ontario\",\"Cobourg, Ontario\",\"Peterborough, Ontario\",\"Sudbury, Ontario\",\"Windsor, Ontario\",\"Kitchener, Ontario\",\"Gananoque, Ontario\",\"Assiginack, Ontario\",\"Atikokan, Ontario\",\"Ottawa, Ontario\",\"Aurora, Ontario\",\"Aylmer, Ontario\",\"Port Rowan, Ontario\",\"Wallacetown, Ontario\",\"Bala, Ontario\",\"Ball's Falls, Ontario\",\"Bancroft, Ontario\",\"London, Ontario\",\"Wingham, Ontario\",\"Grafton, Ontario\",\"Borden, Ontario\",\"Bath, Ontario\",\"Niagara Falls, Ontario\",\"Prescott, Ontario\",\"Beachville, Ontario\",\"Beaverton, Ontario\",\"Brantford, Ontario\",\"Belleville, Ontario\",\"Gravenhurst, Ontario\",\"Williamstown, Ontario\",\"Owen Sound, Ontario\",\"Merrickville, Ontario\",\"Parry Sound, Ontario\",\"Bonnechere, Ontario\",\"Bothwell, Ontario\",\"Bowmanville, Ontario\",\"Bobcaygeon, Ontario\",\"Stratford, Ontario\",\"Brockville, Ontario\",\"Waterloo, Ontario\",\"Southampton, Ontario\",\"Bruce Mines, Ontario\",\"Cobalt, Ontario\",\"Burlington, Ontario\",\"North Buxton, Ontario\",\"Collingwood, Ontario\",\"Caledonia, Ontario\",\"Callander, Ontario\",\"Cambridge, Ontario\",\"Campbellford, Ontario\",\"St. Williams, Ontario\",\"Oshawa, Ontario\",\"St. Marys, Ontario\",\"Deep River, Ontario\",\"Rainham Centre, Ontario\",\"Port Hope, Ontario\",\"North Bay, Ontario\",\"Oakville, Ontario\",\"Richmond Hill, Ontario\",\"Vaughan, Ontario\",\"Kingsville, Ontario\",\"Cannington, Ontario\",\"Carleton Place, Ontario\",\"Iroquois, Ontario\",\"Baden, Ontario\",\"Sheguiandah, Ontario\",\"Thunder Bay, Ontario\",\"Mindemoya, Ontario\",\"Petawawa, Ontario\",\"Pembroke, Ontario\",\"Chapleau, Ontario\",\"Chapple, Ontario\",\"Chathamâ€“Kent, Ontario\",\"Chatham-Kent, Ontario\",\"Chesley, Ontario\",\"Chesterville, Ontario\",\"Ohsweken, Ontario\",\"Lakefield, Ontario\",\"Powassan, Ontario\",\"Kirby, Ontario\",\"Cloyne, Ontario\",\"Cochrane, Ontario\",\"Coldwater, Ontario\",\"Lakeshore, Ontario\",\"Commanda, Ontario\",\"Copper Cliff, Ontario\",\"Cornwall, Ontario\",\"Selkirk, Ontario\",\"Milton, Ontario\",\"Blue Mountains, Ontario\",\"Campbellville, Ontario\",\"Balmertown, Ontario\",\"Cumberland, Ontario\",\"Delhi, Ontario\",\"Carp, Ontario\",\"Penetanguishene, Ontario\",\"Ailsa Craig, Ontario\",\"Dorset, Ontario\",\"Dryden, Ontario\",\"Rosemont, Ontario\",\"Dundas, Ontario\",\"Durham, Ontario\",\"Ear Falls, Ontario\",\"Cayuga, Ontario\",\"Vienna, Ontario\",\"St. Thomas, Ontario\",\"Elliot Lake, Ontario\",\"Newmarket, Ontario\",\"Englehart, Ontario\",\"Stoney Creek, Ontario\",\"McGregor, Ontario\",\"Simcoe, Ontario\",\"Thamesville, Ontario\",\"Stirling, Ontario\",\"Ancaster, Ontario\",\"Forest, Ontario\",\"Fort Erie, Ontario\",\"Ridgeway, Ontario\",\"Fort Frances, Ontario\",\"Niagara-on-the-Lake, Ontario\",\"Amherstburg, Ontario\",\"St. Joseph Island, Ontario\",\"Kanata, Ontario\",\"Markham, Ontario\",\"Wiarton, Ontario\",\"Barrie, Ontario\",\"Keswick, Ontario\",\"Dunvegan, Ontario\",\"Maxville, Ontario\",\"Gore Bay, Ontario\",\"Stittsville, Ontario\",\"Brampton, Ontario\",\"Georgian Bluffs, Ontario\",\"Grimsby, Ontario\",\"Guelph, Ontario\",\"Haileybury, Ontario\",\"Haliburton, Ontario\",\"Smiths Falls, Ontario\",\"Kinmount, Ontario\",\"Killaloe, Hagarty and Richards, Ontario\",\"Kirkland Lake, Ontario\",\"Maitland, Ontario\",\"Fenelon Falls, Ontario\",\"Seguin, Ontario\",\"Goderich, Ontario\",\"Midland, Ontario\",\"Kakabeka Falls, Ontario\",\"Ignace, Ontario\",\"Ingersoll, Ontario\",\"Innisville, Ontario\",\"Iron Bridge, Ontario\",\"Iroquois Falls, Ontario\",\"Harrow, Ontario\",\"Meaford, Ontario\",\"Jordan, Ontario\",\"Stratton, Ontario\",\"Russell, Ontario\",\"Killarney, Ontario\",\"King City, Ontario\",\"Lucknow, Ontario\",\"Komoka, Ontario\",\"Kenora, Ontario\",\"Lambton, Ontario\",\"Lanark, Ontario\",\"Stouffville, Ontario\",\"Queenston, Ontario\",\"Lindsay, Ontario\",\"New Liskeard, Ontario\",\"South Baymouth, Ontario\",\"Chaffey's Lock, Ontario\",\"L'Orignal, Ontario\",\"Long Sault, Ontario\",\"Lucan, Ontario\",\"Picton, Ontario\",\"Combermere, Ontario\",\"Chute-Ã -Blondeau, Ontario\",\"Marathon, Ontario\",\"Milford, Ontario\",\"Marten River, Ontario\",\"Massey, Ontario\",\"Mattawa, Ontario\",\"Renfrew, Ontario\",\"Kleinburg, Ontario\",\"Brighton, Ontario\",\"Middleville, Ontario\",\"Minden Hills, Ontario\",\"Little Current, Ontario\",\"Almonte, Ontario\",\"Mooretown, Ontario\",\"St. Catharines, Ontario\",\"Alliston, Ontario\",\"Strathroy-Caradoc, Ontario\",\"Victoria Road, Ontario\",\"Huntsville, Ontario\",\"Port Carling, Ontario\",\"Wasaga Beach, Ontario\",\"Trenton, Ontario\",\"Nepean, Ontario\",\"Meldrum Bay, Ontario\",\"Nipissing, Ontario\",\"Dunnville, Ontario\",\"Appleton, Ontario\",\"Capreol, Ontario\",\"Norwich, Ontario\",\"Madoc, Ontario\",\"Oil Springs, Ontario\",\"Kagawong, Ontario\",\"Delta, Ontario\",\"Golden Lake, Ontario\",\"Orillia, Ontario\",\"Frankford, Ontario\",\"Osgood Township, Ontario\",\"Kincardine, Ontario\",\"Palmerston, Ontario\",\"Paris, Ontario\",\"Pelee Island, Ontario\",\"Perth, Ontario\",\"Woodview, Ontario\",\"Petrolia, Ontario\",\"Pickering, Ontario\",\"Dunrobin, Ontario\",\"Port Burwell, Ontario\",\"Port Colborne, Ontario\",\"Port Dover, Ontario\",\"Prince, Ontario\",\"Princeton, Ontario\",\"Mississippi Mills, Ontario\",\"Moosonee, Ontario\",\"Emo, Ontario\",\"Rainy River, Ontario\",\"St. Andrews, Ontario\",\"Azilda, Ontario\",\"Red Lake, Ontario\",\"Westport, Ontario\",\"Ridgetown, Ontario\",\"Kapuskasing, Ontario\",\"Akwesasne, Ontario\",\"Waupoos, Ontario\",\"Whitewater Region, Ontario\",\"Plummer Additional, Ontario\",\"Clinton, Ontario\",\"Port Perry, Ontario\",\"Sharon, Ontario\",\"Clarksburg, Ontario\",\"Sutton, Ontario\",\"Minesing, Ontario\",\"Sioux Lookout, Ontario\",\"Mount Brydges, Ontario\",\"Sombra, Ontario\",\"Flesherton, Ontario\",\"Barry's Bay, Ontario\",\"Essex, Ontario\",\"Bronte, Ontario\",\"Spencerville, Ontario\",\"Tobermory, Ontario\",\"St. Jacobs, Ontario\",\"Zurich, Ontario\",\"Stanhope, Ontario\",\"Quinte West, Ontario\",\"Sturgeon Falls, Ontario\",\"Kars, Ontario\",\"Teeterville, Ontario\",\"Matheson, Ontario\",\"Thorold, Ontario\",\"Blind River, Ontario\",\"Timmins, Ontario\",\"Paisley, Ontario\",\"Waterdown, Ontario\",\"Tweed, Ontario\",\"Dresden, Ontario\",\"Adolphustown, Ontario\",\"Morrisburg, Ontario\",\"Uxbridge, Ontario\",\"White Lake, Ontario\",\"Wallaceburg, Ontario\",\"Waterford, Ontario\",\"Manotick, Ontario\",\"Welland, Ontario\",\"Fergus, Ontario\",\"Wellington, Ontario\",\"Rockton, Ontario\",\"Vandorf, Ontario\",\"Wilberforce, Ontario\",\"Wilno, Ontario\",\"Bracebridge, Ontario\",\"Woodstock, Ontario\",\"Omemee, Ontario\"]"
   ]
  },
  {
   "cell_type": "code",
   "execution_count": null,
   "metadata": {},
   "outputs": [],
   "source": [
    "# setup dictionary\n",
    "ont_museums_dict = {\n",
    "                    'Yelp_ID':[],'Business_Name':[],\n",
    "                    'Business_type':[],'City':[],'country':[],\n",
    "                    'Address':[], 'Zipcode':[],\n",
    "                    'Latitude':[],'Longitude':[],'url':[]\n",
    "                        }"
   ]
  },
  {
   "cell_type": "code",
   "execution_count": null,
   "metadata": {},
   "outputs": [],
   "source": [
    "# Extract data\n",
    "counter = 0\n",
    "for i in cities:\n",
    "    api_key = ykey\n",
    "    headers = {'Authorization': 'Bearer %s' % api_key}\n",
    "    params = {'categories':'museums','location':i,'limit':'50'}\n",
    "    url = \"https://api.yelp.com/v3/businesses/search?\"\n",
    "    req=requests.get(url, params=params, headers=headers)\n",
    "    counter = counter + 1\n",
    "    print('The status code is {}'.format(req.status_code), counter)\n",
    "    results= json.loads(req.text)\n",
    "    for r in range(len(results[\"businesses\"])):\n",
    "        ont_museums_dict['Yelp_ID'].append(results['businesses'][r]['id'])\n",
    "        ont_museums_dict['Business_Name'].append(results['businesses'][r]['name'])\n",
    "        ont_museums_dict['Business_type'].append(results['businesses'][r]['categories'][0]['title'])\n",
    "        ont_museums_dict['City'].append(results['businesses'][r][\"location\"][\"city\"])\n",
    "        ont_museums_dict['Address'].append(results[\"businesses\"][r]['location']['address1'])\n",
    "        ont_museums_dict['Zipcode'].append(results['businesses'][r]['location']['zip_code'])\n",
    "        ont_museums_dict['country'].append(results['businesses'][r]['location']['country'])\n",
    "        ont_museums_dict['Latitude'].append(results['businesses'][r]['coordinates']['latitude'])\n",
    "        ont_museums_dict['Longitude'].append(results['businesses'][r]['coordinates']['longitude'])\n",
    "        ont_museums_dict['url'].append(results['businesses'][r]['url'])\n",
    "        \n",
    "    "
   ]
  },
  {
   "cell_type": "code",
   "execution_count": null,
   "metadata": {},
   "outputs": [],
   "source": [
    "ont_museums_df = pd.DataFrame(ont_museums_dict)\n",
    "ont_museums_df.head()"
   ]
  },
  {
   "cell_type": "code",
   "execution_count": null,
   "metadata": {},
   "outputs": [],
   "source": [
    "# ont_museums_df.to_csv(r'MUSEUMS_ONTARIO_YELP_DATA.csv')"
   ]
  },
  {
   "cell_type": "code",
   "execution_count": null,
   "metadata": {},
   "outputs": [],
   "source": [
    "ont_zoos_dict = {\n",
    "                    'Yelp_ID':[],'Business_Name':[],\n",
    "                    'Business_type':[],'City':[],'country':[],\n",
    "                    'Address':[], 'Zipcode':[],\n",
    "                    'Latitude':[],'Longitude':[],'url':[]\n",
    "                        }"
   ]
  },
  {
   "cell_type": "code",
   "execution_count": null,
   "metadata": {},
   "outputs": [],
   "source": [
    "# Extract data\n",
    "counter = 0\n",
    "for i in cities:\n",
    "    api_key = ykey\n",
    "    headers = {'Authorization': 'Bearer %s' % api_key}\n",
    "    params = {'categories':'zoos','location':i,'limit':'50'}\n",
    "    url = \"https://api.yelp.com/v3/businesses/search?\"\n",
    "    req=requests.get(url, params=params, headers=headers)\n",
    "    counter = counter + 1\n",
    "    print('The status code is {}'.format(req.status_code), counter)\n",
    "    results= json.loads(req.text)\n",
    "    for r in range(len(results[\"businesses\"])):\n",
    "        ont_zoos_dict['Yelp_ID'].append(results['businesses'][r]['id'])\n",
    "        ont_zoos_dict['Business_Name'].append(results['businesses'][r]['name'])\n",
    "        ont_zoos_dict['Business_type'].append(results['businesses'][r]['categories'][0]['title'])\n",
    "        ont_zoos_dict['City'].append(results['businesses'][r][\"location\"][\"city\"])\n",
    "        ont_zoos_dict['Address'].append(results[\"businesses\"][r]['location']['address1'])\n",
    "        ont_zoos_dict['Zipcode'].append(results['businesses'][r]['location']['zip_code'])\n",
    "        ont_zoos_dict['country'].append(results['businesses'][r]['location']['country'])\n",
    "        ont_zoos_dict['Latitude'].append(results['businesses'][r]['coordinates']['latitude'])\n",
    "        ont_zoos_dict['Longitude'].append(results['businesses'][r]['coordinates']['longitude'])\n",
    "        ont_zoos_dict['url'].append(results['businesses'][r]['url'])"
   ]
  },
  {
   "cell_type": "code",
   "execution_count": null,
   "metadata": {},
   "outputs": [],
   "source": [
    "ont_zoos_df = pd.DataFrame(ont_zoos_dict)\n",
    "# ont_zoos_df.to_csv(r'ZOOS_ONTARIO_YELP_DATA.csv')"
   ]
  },
  {
   "cell_type": "code",
   "execution_count": null,
   "metadata": {},
   "outputs": [],
   "source": [
    "ont_zoos_df.head()"
   ]
  },
  {
   "cell_type": "markdown",
   "metadata": {},
   "source": [
    "## Database Load"
   ]
  },
  {
   "cell_type": "code",
   "execution_count": null,
   "metadata": {},
   "outputs": [],
   "source": [
    "# Create engine database and connect\n",
    "\n",
    "database_path = \"HISTORIC_SITES_ALL.sqlite\"\n",
    "engine = create_engine(f\"sqlite:///{database_path}\")\n",
    "conn = engine.connect()"
   ]
  },
  {
   "cell_type": "code",
   "execution_count": null,
   "metadata": {},
   "outputs": [],
   "source": [
    "# Upen CSV File\n",
    "file_one_his= \"CLEAN DATA/USE/HISTORIC_SITES_ALL.csv\"\n",
    "file_one_his_df = pd.read_csv(file_one, encoding=\"ISO-8859-1\")\n",
    "file_one_his_df.head()"
   ]
  },
  {
   "cell_type": "code",
   "execution_count": null,
   "metadata": {},
   "outputs": [],
   "source": [
    "# add class for HISTORIC_SITES_ALL\n",
    "from sqlalchemy.orm import Session\n",
    "session = Session(bind=engine)\n",
    "class Hsites(Base):\n",
    "    __tablename__ = 'Hsites'\n",
    "    id = Column(Integer, primary_key=True)\n",
    "    Site_Name = Column(String)\n",
    "    Site_type = Column(String) \n",
    "    Site_dated = Column(String)\n",
    "    Site_designated = Column(String)\n",
    "    Site_location = Column(String)\n",
    "    Site_coordinates = Column(String)\n",
    "    Site_latitude = Column(Float)\n",
    "    Site_longitude = Column(Float)\n",
    "    Site_description = Column(String)\n",
    "conn = engine.connect()\n",
    "Base.metadata.create_all(conn) \n",
    "\n",
    "\n",
    "# Add rows to the table\n",
    "for index, item in file_one_his_df.iterrows():\n",
    "    place = Hsites(Site_Name=item['Site'],\n",
    "                  Site_type =item['Type'],\n",
    "                  Site_dated=item['Date'],\n",
    "                  Site_designated=item['Designated'],\n",
    "                  Site_location=item['Location'],\n",
    "                  Site_coordinates=item['Coordinates'],\n",
    "                  Site_latitude=item['Latitude'],\n",
    "                  Site_longitude=item['Longitude'],\n",
    "                  Site_description=item['Description']\n",
    "                 )\n",
    "    session.add(place)\n",
    "    session.commit()"
   ]
  },
  {
   "cell_type": "code",
   "execution_count": null,
   "metadata": {},
   "outputs": [],
   "source": [
    "# Check table the KPlaces table fro contents\n",
    "engine.execute(\"SELECT * FROM Hsites\").fetchall()"
   ]
  },
  {
   "cell_type": "code",
   "execution_count": null,
   "metadata": {},
   "outputs": [],
   "source": [
    "# Upen CSV File\n",
    "file_ont_yelp = \"CLEAN DATA/USE/ONTARIO_YELP_DATA_CLEAN.csv\"\n",
    "file_ont_yelp_df = pd.read_csv(file_ont_yelp, encoding=\"ISO-8859-1\")\n",
    "file_ont_yelp_df.head()"
   ]
  },
  {
   "cell_type": "code",
   "execution_count": null,
   "metadata": {},
   "outputs": [],
   "source": [
    "# add class for ONTARIO_YELP_DATA_CLEAN\n",
    "from sqlalchemy.orm import Session\n",
    "session = Session(bind=engine)\n",
    "class Ontsites(Base):\n",
    "    __tablename__ = 'Ontsites'\n",
    "    id = Column(Integer, primary_key=True)\n",
    "    Yelp_ID = Column(String)\n",
    "    Business_Name = Column(String)\n",
    "    Business_type = Column(String)\n",
    "    City = Column(String)\n",
    "    Country = Column(String)\n",
    "    Address = Column(String)\n",
    "    Zipcode = Column(String)\n",
    "    Latitude = Column(Float)\n",
    "    Longitude = Column(Float)\n",
    "    url = Column(String)\n",
    "conn = engine.connect()\n",
    "Base.metadata.create_all(conn) \n",
    "\n",
    "\n"
   ]
  },
  {
   "cell_type": "code",
   "execution_count": null,
   "metadata": {},
   "outputs": [],
   "source": [
    "# Add rows to the table\n",
    "for index, item in file_ont_yelp_df.iterrows():\n",
    "    place = Ontsites(Yelp_ID=item['Yelp_ID'],\n",
    "                  Business_Name=item['Business_Name'],\n",
    "                  Business_type=item['Business_type'],\n",
    "                  City=item['City'],\n",
    "                  Country=item['country'],\n",
    "                  Address=item['Address'],\n",
    "                  Zipcode=item['Zipcode'],\n",
    "                  Latitude=item['Latitude'],\n",
    "                  Longitude=item['Longitude'],\n",
    "                  url=item['url'],\n",
    "                 )\n",
    "    session.add(place)\n",
    "    session.commit()"
   ]
  },
  {
   "cell_type": "code",
   "execution_count": null,
   "metadata": {},
   "outputs": [],
   "source": [
    "# Check table the KPlaces table fro contents\n",
    "engine.execute(\"SELECT * FROM Ontsites\").fetchall()"
   ]
  },
  {
   "cell_type": "code",
   "execution_count": null,
   "metadata": {},
   "outputs": [],
   "source": [
    "# Upen CSV File\n",
    "file_ont_parks = \"CLEAN DATA/USE/All_ONT_PARKS_TYPE.csv\"\n",
    "file_ont_parks_df = pd.read_csv(file_ont_parks, encoding=\"ISO-8859-1\")\n",
    "file_ont_parks_df.head()"
   ]
  },
  {
   "cell_type": "code",
   "execution_count": null,
   "metadata": {},
   "outputs": [],
   "source": [
    "# add class for ONTARIO_YELP_DATA_CLEAN\n",
    "from sqlalchemy.orm import Session\n",
    "session = Session(bind=engine)\n",
    "class Ontparks(Base):\n",
    "    __tablename__ = 'Ontparks'\n",
    "    id = Column(Integer, primary_key=True)\n",
    "    Park_Name = Column(String)\n",
    "    Latitude = Column(Float)\n",
    "    Longitude = Column(Float)\n",
    "    Type = Column(String)\n",
    "conn = engine.connect()\n",
    "Base.metadata.create_all(conn) "
   ]
  },
  {
   "cell_type": "code",
   "execution_count": null,
   "metadata": {},
   "outputs": [],
   "source": [
    "# Add rows to the table\n",
    "for index, item in file_ont_parks_df.iterrows():\n",
    "    place = Ontparks(\n",
    "                  Park_Name=item['Site_name'],\n",
    "                  Latitude=item['Latitude'],\n",
    "                  Longitude=item['Longitude'],\n",
    "                  Type=item['Type'],\n",
    "                 )\n",
    "    session.add(place)\n",
    "    session.commit()"
   ]
  },
  {
   "cell_type": "code",
   "execution_count": null,
   "metadata": {},
   "outputs": [],
   "source": [
    "# Check table the KPlaces table fro contents\n",
    "engine.execute(\"SELECT * FROM Ontparks\").fetchall()"
   ]
  },
  {
   "cell_type": "code",
   "execution_count": 3,
   "metadata": {},
   "outputs": [
    {
     "data": {
      "text/html": [
       "<div>\n",
       "<style scoped>\n",
       "    .dataframe tbody tr th:only-of-type {\n",
       "        vertical-align: middle;\n",
       "    }\n",
       "\n",
       "    .dataframe tbody tr th {\n",
       "        vertical-align: top;\n",
       "    }\n",
       "\n",
       "    .dataframe thead th {\n",
       "        text-align: right;\n",
       "    }\n",
       "</style>\n",
       "<table border=\"1\" class=\"dataframe\">\n",
       "  <thead>\n",
       "    <tr style=\"text-align: right;\">\n",
       "      <th></th>\n",
       "      <th>Unnamed: 0</th>\n",
       "      <th>Site</th>\n",
       "      <th>Date</th>\n",
       "      <th>Designated</th>\n",
       "      <th>Location</th>\n",
       "      <th>Coordinates</th>\n",
       "      <th>Latitude</th>\n",
       "      <th>Longitude</th>\n",
       "      <th>Description</th>\n",
       "      <th>Type</th>\n",
       "    </tr>\n",
       "  </thead>\n",
       "  <tbody>\n",
       "    <tr>\n",
       "      <th>0</th>\n",
       "      <td>0</td>\n",
       "      <td>Adelaide Hunter Hoodless Homestead</td>\n",
       "      <td>1839 (completed)</td>\n",
       "      <td>1995</td>\n",
       "      <td>Brant County</td>\n",
       "      <td>43.23694,-80.29667</td>\n",
       "      <td>43.236940</td>\n",
       "      <td>-80.296670</td>\n",
       "      <td>The childhood home of activist and organizer A...</td>\n",
       "      <td>NHistoric</td>\n",
       "    </tr>\n",
       "    <tr>\n",
       "      <th>1</th>\n",
       "      <td>1</td>\n",
       "      <td>Algoma Central Engine House</td>\n",
       "      <td>1912 (completed)</td>\n",
       "      <td>1992</td>\n",
       "      <td>Sault Ste. Marie</td>\n",
       "      <td>46.5281611,-84.3505389</td>\n",
       "      <td>46.528161</td>\n",
       "      <td>-84.350539</td>\n",
       "      <td>A well-preserved example of a brick engine hou...</td>\n",
       "      <td>NHistoric</td>\n",
       "    </tr>\n",
       "    <tr>\n",
       "      <th>2</th>\n",
       "      <td>2</td>\n",
       "      <td>Algonquin Provincial Park</td>\n",
       "      <td>1893 (established)</td>\n",
       "      <td>1992</td>\n",
       "      <td>Nipissing - Unorganized South Part (primarily)</td>\n",
       "      <td>45.58417,-78.35833</td>\n",
       "      <td>45.584170</td>\n",
       "      <td>-78.358330</td>\n",
       "      <td>The first provincial park in Canada, noted for...</td>\n",
       "      <td>NHistoric</td>\n",
       "    </tr>\n",
       "    <tr>\n",
       "      <th>3</th>\n",
       "      <td>3</td>\n",
       "      <td>Amherstburg First Baptist Church</td>\n",
       "      <td>1849 (completed)</td>\n",
       "      <td>2012</td>\n",
       "      <td>Amherstburg</td>\n",
       "      <td>42.1026833,-83.1057361</td>\n",
       "      <td>42.102683</td>\n",
       "      <td>-83.105736</td>\n",
       "      <td>A modest wooden church that was a major Underg...</td>\n",
       "      <td>NHistoric</td>\n",
       "    </tr>\n",
       "    <tr>\n",
       "      <th>4</th>\n",
       "      <td>4</td>\n",
       "      <td>Amherstburg Navy Yard</td>\n",
       "      <td>1796 (established)</td>\n",
       "      <td>1928</td>\n",
       "      <td>Amherstburg</td>\n",
       "      <td>42.1018833,-83.1125583</td>\n",
       "      <td>42.101883</td>\n",
       "      <td>-83.112558</td>\n",
       "      <td>The site of a Royal Navy shipyard from 1796â...</td>\n",
       "      <td>NHistoric</td>\n",
       "    </tr>\n",
       "  </tbody>\n",
       "</table>\n",
       "</div>"
      ],
      "text/plain": [
       "   Unnamed: 0                                 Site                Date  \\\n",
       "0           0  Adelaide Hunter Hoodless Homestead     1839 (completed)   \n",
       "1           1         Algoma Central Engine House     1912 (completed)   \n",
       "2           2           Algonquin Provincial Park   1893 (established)   \n",
       "3           3    Amherstburg First Baptist Church     1849 (completed)   \n",
       "4           4               Amherstburg Navy Yard   1796 (established)   \n",
       "\n",
       "  Designated                                        Location  \\\n",
       "0       1995                                    Brant County   \n",
       "1       1992                                Sault Ste. Marie   \n",
       "2       1992  Nipissing - Unorganized South Part (primarily)   \n",
       "3       2012                                    Amherstburg    \n",
       "4       1928                                    Amherstburg    \n",
       "\n",
       "              Coordinates   Latitude  Longitude  \\\n",
       "0      43.23694,-80.29667  43.236940 -80.296670   \n",
       "1  46.5281611,-84.3505389  46.528161 -84.350539   \n",
       "2      45.58417,-78.35833  45.584170 -78.358330   \n",
       "3  42.1026833,-83.1057361  42.102683 -83.105736   \n",
       "4  42.1018833,-83.1125583  42.101883 -83.112558   \n",
       "\n",
       "                                         Description       Type  \n",
       "0  The childhood home of activist and organizer A...  NHistoric  \n",
       "1  A well-preserved example of a brick engine hou...  NHistoric  \n",
       "2  The first provincial park in Canada, noted for...  NHistoric  \n",
       "3  A modest wooden church that was a major Underg...  NHistoric  \n",
       "4  The site of a Royal Navy shipyard from 1796â...  NHistoric  "
      ]
     },
     "execution_count": 3,
     "metadata": {},
     "output_type": "execute_result"
    }
   ],
   "source": [
    "# Upen CSV File\n",
    "hard_code_hsites = \"CLEAN DATA/USE/HISTORIC_SITES_ALL.csv\"\n",
    "hard_code_hsites_df = pd.read_csv(hard_code_hsites, encoding=\"ISO-8859-1\")\n",
    "hard_code_hsites_df.head()"
   ]
  },
  {
   "cell_type": "code",
   "execution_count": 29,
   "metadata": {},
   "outputs": [
    {
     "name": "stdout",
     "output_type": "stream",
     "text": [
      "{name:^Adelaide Hunter Hoodless Homestead ^,location:[43.23694,-80.29667],Date:^1839 (completed)^,Designated:^1995^,City:^Brant County^,Type:^NHistoric^,Description:^The childhood home of activist and organizer Adelaide Hunter Hoodless, educational reformer and co-founder of the Women's Institute, the National Council of Women of Canada and the Victorian Order of Nurses^},\n",
      "{name:^Algoma Central Engine House ^,location:[46.5281611,-84.3505389],Date:^1912 (completed)^,Designated:^1992^,City:^Sault Ste. Marie^,Type:^NHistoric^,Description:^A well-preserved example of a brick engine house, and the first in Canada to have an internal turntable^},\n",
      "{name:^Algonquin Provincial Park ^,location:[45.58417,-78.35833],Date:^1893 (established)^,Designated:^1992^,City:^Nipissing - Unorganized South Part (primarily)^,Type:^NHistoric^,Description:^The first provincial park in Canada, noted for its pioneering role in park management, visitor interpretation programs and the development of park buildings and structures, as well as its role in inspiring artists such as the Group of Seven^},\n",
      "{name:^Amherstburg First Baptist Church ^,location:[42.1026833,-83.1057361],Date:^1849 (completed)^,Designated:^2012^,City:^Amherstburg ^,Type:^NHistoric^,Description:^A modest wooden church that was a major Underground Railroad church in Upper Canada and that played a crucial role in the development of the Black community in Ontario^},\n",
      "{name:^Amherstburg Navy Yard ^,location:[42.1018833,-83.1125583],Date:^1796 (established)^,Designated:^1928^,City:^Amherstburg ^,Type:^NHistoric^,Description:^The site of a Royal Navy shipyard from 1796â1813, which served as the hub of the British naval presence on the upper Great Lakes^},\n",
      "{name:^Annandale House/Tillsonburg Museum ^,location:[42.86250,-80.72167],Date:^1882 (completed)^,Designated:^1997^,City:^Tillsonburg^,Type:^NHistoric^,Description:^One of the best surviving illustrations in Canada of the Aesthetic Movement and the movement's major impact on domestic architecture in Canada^},\n",
      "{name:^Backhouse Grist Mill ^,location:[42.6427000,-80.4748000],Date:^1798 (completed)^,Designated:^1998^,City:^Norfolk County^,Type:^NHistoric^,Description:^One of the few gristmills in this region not to be burned during the War of 1812, it is one of the oldest and best preserved examples in Canada of small-scale, water-powered establishments found throughout the country in the 19th and early 20th centuries^},\n",
      "{name:^Banting House ^,location:[42.9899583,-81.2317944],Date:^1900 (completed)^,Designated:^1997^,City:^London^,Type:^NHistoric^,Description:^A yellow-brick house recognized as the site of the defining moment in the discovery of insulin by Frederick Banting^},\n",
      "{name:^Barnum House ^,location:[43.9944361,-78.015889],Date:^1820 (completed)^,Designated:^1959^,City:^Grafton^,Type:^NHistoric^,Description:^A noted example of Neoclassic domestic architecture as brought to Canada by settlers from New England^},\n",
      "{name:^Battle Hill ^,location:[42.69417,-81.70500],Date:^1814 (battle)^,Designated:^1924^,City:^Southwest Middlesex^,Type:^NHistoric^,Description:^The site of the Battle of Longwoods during the War of 1812^},\n",
      "{name:^Battle of Crysler's Farm ^,location:[44.9419778,-75.0701722],Date:^1813 (battle)^,Designated:^1920^,City:^South Dundas^,Type:^NHistoric^,Description:^The site of a victory by badly outnumbered British troops in the War of 1812, prompting the American forces to abandon the St. Lawrence Campaign; the original battle site was submerged in 1958 by the construction of the Saint Lawrence Seaway, so the 1895 monument was relocated to its current location in Crysler's Farm Battlefield Park near Upper Canada Village^},\n",
      "{name:^Battle of the Windmill ^,location:[44.7209000,-75.4871000],Date:^1838 (battle)^,Designated:^1920^,City:^Prescott^,Type:^NHistoric^,Description:^The site a battle fought during the Upper Canada Rebellion, whereby Loyalist forces defeated an invasion attempt by Hunter Patriot insurgents based in the United States^},\n",
      "{name:^Beausoleil Island ^,location:[44.8661000,-79.8699000],Date:^nan^,Designated:^2011^,City:^Muskoka District^,Type:^NHistoric^,Description:^An island within Georgian Bay Islands National Park; a cultural landscape of the Anishinaabeg^},\n",
      "{name:^Beechcroft and Lakehurst Gardens ^,location:[44.2733111,-79.5030250],Date:^1870 (ca.) (established)^,Designated:^1978^,City:^Roches Point^,Type:^NHistoric^,Description:^Gardens reportedly designed by Frederick Law Olmsted^},\n",
      "{name:^Bell Homestead ^,location:[43.107917,-80.2708361],Date:^1858 (completed)^,Designated:^1996^,City:^Brantford^,Type:^NHistoric^,Description:^The first home of Alexander Graham Bell in North America, it is associated with the conception of and early long-distance trials of the telephone^},\n",
      "{name:^Belle Vue ^,location:[42.093222,-83.1127750],Date:^1819 (completed)^,Designated:^1959^,City:^Amherstburg^,Type:^NHistoric^,Description:^A two-storey, white painted, brick house constructed for the Deputy Assistant Commissary General of the garrison at Fort Malden, ranking among the finest examples of Palladian architecture in Canada^},\n",
      "{name:^Belleville Railway Station (Grand Trunk) ^,location:[44.1790028,-77.3747361],Date:^1856 (completed)^,Designated:^1973^,City:^Belleville^,Type:^NHistoric^,Description:^A railway station representative of the larger stations erected for the newly formed Grand Trunk Railway along the key Toronto to Montreal line during the mid-19th century, it is the oldest continuously operating passenger train station in Canada^},\n",
      "{name:^Bethune Memorial House ^,location:[44.9204028,-79.3761361],Date:^1880 (completed)^,Designated:^1996^,City:^Gravenhurst^,Type:^NHistoric^,Description:^The birthplace of Dr. Norman Bethune^},\n",
      "{name:^Bethune-Thompson House / White House ^,location:[45.1437972,-74.5747889],Date:^1805 (completed)^,Designated:^1966^,City:^Williamstown^,Type:^NHistoric^,Description:^A noted early Ontario home, representative of the design and construction techniques from the period; portions date to the 1780s when Loyalist Peter Ferguson settled on the site, but the main structure was built in 1805 as a manse for Reverend John Bethune, the first Presbyterian minister in Upper Canada and was later the residence of explorer David Thompson^},\n",
      "{name:^Billy Bishop Boyhood Home ^,location:[44.56639,-80.947639],Date:^1884 (completed)^,Designated:^2002^,City:^Owen Sound^,Type:^NHistoric^,Description:^The birthplace and childhood home of First World War flying ace Billy Bishop^},\n",
      "{name:^Bois Blanc Island Lighthouse and Blockhouse ^,location:[42.0878250,-83.1198556],Date:^1837 (lighthouse completed), 1839 (blockhouse completed)^,Designated:^1955^,City:^Bois Blanc Island^,Type:^NHistoric^,Description:^The site of the attack by Canadian rebels and their American supporters in January 1838 during the Upper Canada Rebellion; in response to the raid, the blockhouse was built to complement the reconstructed Fort Malden^},\n",
      "{name:^Bridge Island / Chimney Island ^,location:[44.4686417,-75.8345028],Date:^1814 (blockhouse completed)^,Designated:^1936^,City:^Front of Yonge^,Type:^NHistoric^,Description:^Formerly the site of a naval station during the War of 1812^},\n",
      "{name:^Buxton Settlement ^,location:[42.305667,-82.220417],Date:^1849 (established)^,Designated:^1999^,City:^Chatham-Kent^,Type:^NHistoric^,Description:^A community founded by abolitionist Reverend William King, 15 former American slaves, and an association which included James Bruce, 8th Earl of Elgin, then the Governor General of Canada, to create a haven for fugitive slaves escaping via the Underground Railroad^},\n",
      "{name:^Canadian Car & Foundry ^,location:[48.3570472,-89.3056722],Date:^1912 (completed)^,Designated:^2009^,City:^Thunder Bay^,Type:^NHistoric^,Description:^Located within the Bombardier Transportation facility, the historic complex was the main plant of Canada's largest aircraft manufacturer during the Second World War, with 10% of the world's production of the Hurricane built there; representative of the wartime contributions made by women workers and of the country's post-war mass-transit manufacturing industry^},\n",
      "{name:^Canal Lake Concrete Arch Bridge ^,location:[44.5583083,-79.0461167],Date:^1905 (completed)^,Designated:^1988^,City:^Bolsover^,Type:^NHistoric^,Description:^A bridge spanning the Trent-Severn Waterway, it is the earliest known reinforced concrete bridge in Canada^},\n",
      "{name:^Carrying Place of the Bay of Quinte ^,location:[44.0485472,-77.5828750],Date:^1787 (treaty negotiated)^,Designated:^1929^,City:^Carrying Place^,Type:^NHistoric^,Description:^The location where Sir John Johnson and Chiefs of the Mississauga negotiated a treaty ceding a river and portage route between Lake Ontario and Lake Huron^},\n",
      "{name:^Castle Kilbride ^,location:[43.40417,-80.67139],Date:^1877 (completed)^,Designated:^1993^,City:^Baden^,Type:^NHistoric^,Description:^An Italianate villa, the former residence of the \"Flax and Oil King of Canada\" James Livingston, known for its interior decorative mural paintings^},\n",
      "{name:^Chiefswood ^,location:[43.1010778,-80.0949667],Date:^1856 (completed)^,Designated:^1953^,City:^Six Nations of the Grand River First Nation^,Type:^NHistoric^,Description:^Italianate-style birthplace of poet E. Pauline Johnson^},\n",
      "{name:^Christ Church, Her Majesty's Chapel Royal of the Mohawk ^,location:[44.1855361,-77.0734056],Date:^1843 (completed)^,Designated:^1995^,City:^Deseronto^,Type:^NHistoric^,Description:^A historic chapel linked with establishment of Mohawk nation in Ontario; one of only two Royal chapels in Canada, representing the historic alliance between the British Crown and the Mohawk peoples^},\n",
      "{name:^Claverleigh ^,location:[44.3180139,-80.1021778],Date:^1871 (completed)^,Designated:^1990^,City:^Creemore^,Type:^NHistoric^,Description:^A noted example of a Gothic Revival-style wood villa^},\n",
      "{name:^Cliff Site ^,location:[42.7855917,-80.1963111],Date:^1670 (event)^,Designated:^1919^,City:^Port Dover^,Type:^NHistoric^,Description:^Marked by a large memorial cross, the site where two Sulpician priests, FranÃ§ois Dollier de Casson and RenÃ© de BrÃ©hant de GalinÃ©e, laid claim to the north shore of Lake Erie in the name of France^},\n",
      "{name:^Cobalt Mining District ^,location:[47.3975944,-79.6743528],Date:^1903 (established)^,Designated:^2002^,City:^Cobalt^,Type:^NHistoric^,Description:^A cultural landscape comprising buildings and structures associated with early 20th-century silver mining and urban settlement, once one of the largest silver producing areas in the world^},\n",
      "{name:^Cox Terrace ^,location:[44.3037667,-78.326222],Date:^1884 (completed)^,Designated:^1991^,City:^Peterborough^,Type:^NHistoric^,Description:^A noted example of a residential terrace built in the Second Empire style^},\n",
      "{name:^Cummins Pre-contact Site ^,location:[48.40583,-89.35333],Date:^nan^,Designated:^1981^,City:^Thunder Bay^,Type:^NHistoric^,Description:^A site once on the shoreline of glacial Lake Minong; extensive late Paleo-Indian quarry^},\n",
      "{name:^Darlingside ^,location:[44.368283,-75.969317],Date:^1830 (established)^,Designated:^1992^,City:^Leeds and the Thousand Islands^,Type:^NHistoric^,Description:^Rare surviving example of the wood depots that sold fuel to the steamboats that plied the St. Lawrence River and the Great Lakes^},\n",
      "{name:^Donaldson Site ^,location:[44.5057556,-81.3340417],Date:^500 BC - 300 AD^,Designated:^1982^,City:^Chippewa Hill^,Type:^NHistoric^,Description:^A 1.2-hectare (3.0-acre) archaeological site; the largest and best documented Saugeen Complex site known, representing many habitation and mortuary practices of the Woodland period^},\n",
      "{name:^Ermatinger House ^,location:[46.5062583,-84.3246278],Date:^1823 (completed)^,Designated:^1957^,City:^Sault Ste. Marie^,Type:^NHistoric^,Description:^A stone house believed to be the oldest surviving house in Northwestern Ontario, it was built by Charles Oakes Ermatinger, an active partner of the North West Company, and was used as a temporary headquarters by Garnet Wolseley, 1st Viscount Wolseley during the Red River Expedition^},\n",
      "{name:^Etharita Site ^,location:[44.412000,-80.210583],Date:^1647â49^,Designated:^1982^,City:^Clearview^,Type:^NHistoric^,Description:^The main village of the Wolf Tribe of the Petun^},\n",
      "{name:^Fairfield on the Thames ^,location:[42.6321583,-81.8697306],Date:^1792 (established), 1813 (destroyed)^,Designated:^1945^,City:^ChathamâKent^,Type:^NHistoric^,Description:^The site of the original village of Fairfield, founded in 1792 by Aboriginal refugees and Moravian missionaries who came to Canada from Ohio, fleeing persecution in the United States after refusing to take sides during the American Revolutionary War; the village was destroyed in 1813 by American invaders during the War of 1812, when the inhabitants were accused of sheltering British officers^},\n",
      "{name:^Finnish Labour Temple ^,location:[48.43222,-89.23000],Date:^1910 (completed)^,Designated:^2011^,City:^Thunder Bay^,Type:^NHistoric^,Description:^A two-storey brick building that played an important social and community role for Finnish immigrants to Canada^},\n",
      "{name:^First Commercial Oil Field ^,location:[42.783417,-82.1167722],Date:^1858 (discovery of oil)^,Designated:^1925^,City:^Oil Springs^,Type:^NHistoric^,Description:^The site of the first commercial oil well in the world, the first drilled well in Canada, the first gumbeds that were commercially used in the world, and the first gas gusher in Canada^},\n",
      "{name:^Forbes Textile Mill ^,location:[43.4275111,-80.3201611],Date:^1863 (established)^,Designated:^1989^,City:^Cambridge^,Type:^NHistoric^,Description:^A wool mill that was, for a time in the early decades of the twentieth century, the largest woollen and worsted mill in Canada^},\n",
      "{name:^Former Almonte Post Office ^,location:[45.2255417,-76.1951417],Date:^1891 (completed)^,Designated:^1983^,City:^Almonte^,Type:^NHistoric^,Description:^A stone post office with a steep gabled roof and central clock tower; designed by Thomas Fuller, the building has undergone no major exterior alterations, so remains an excellent representative example of early multi-use federal buildings in small communities^},\n",
      "{name:^Former Bowmanville Boys Training School/Camp 30 ^,location:[43.92722,-78.66750],Date:^1924 (established)^,Designated:^2013^,City:^Bowmanville^,Type:^NHistoric^,Description:^A group of Prairie-style buildings originally constructed as a progressive boys school, and used during the Second World War as an internment camp for German prisoners of war^},\n",
      "{name:^Former Brockville Post Office ^,location:[44.5898111,-75.6848833],Date:^1886 (completed)^,Designated:^1983^,City:^Brockville^,Type:^NHistoric^,Description:^A stone post office, blending Flemish, Queen Anne and classical elements; a good example of the post offices erected by the Department of Public Works in smaller urban centres during Thomas Fuller's term as Chief Dominion Architect^},\n",
      "{name:^Former Elora Drill Shed ^,location:[43.680056,-80.4288917],Date:^1865 (completed)^,Designated:^1989^,City:^Elora^,Type:^NHistoric^,Description:^A good representative example of the early stage in drill hall construction in Canada (when rural militia units, rather than the Department of Defence, were responsible for their construction), noted for its classical proportions, the fanlight over the door and the oculus in the gable^},\n",
      "{name:^Former Galt Post Office ^,location:[43.3583556,-80.3155528],Date:^1887 (completed)^,Designated:^1983^,City:^Cambridge^,Type:^NHistoric^,Description:^A limestone-clad post office, blending elements of Romanesque Revival, Gothic Revival and Second Empire architectural styles; representative of small urban post offices designed by Thomas Fuller^},\n",
      "{name:^Former Port Perry Town Hall ^,location:[44.1032972,-78.9472667],Date:^1873 (completed)^,Designated:^1984^,City:^Port Perry^,Type:^NHistoric^,Description:^A noted example of a municipal meeting hall; the lower hall was used for village council meetings, and the balconied opera house on the second storey served as the village's social centre^},\n",
      "{name:^Fort Malden ^,location:[42.1077111,-83.1126444],Date:^1799 (Fort Amherstburg completed), 1815 (fort initially rebuilt)^,Designated:^1921^,City:^Amherstburg^,Type:^NHistoric^,Description:^British fort (initially known as Fort Amherstburg) that served as the principal defence of the western frontier for the period until 1813 (when it was captured and later destroyed by the Americans), and also served as an important fortification during the border raids associated with the Upper Canada Rebellion in 1837-38^},\n",
      "{name:^Fort Norfolk (Turkey Point)^,location:[42.6994056,-80.324972],Date:^1814 (completed)^,Designated:^1925^,City:^Norfolk County^,Type:^NHistoric^,Description:^The site of a British military and naval post between 1814 and 1815; abandoned shortly after the War of 1812^},\n",
      "{name:^Fort Sainte Marie II ^,location:[44.8241611,-80.1642333],Date:^1649 (established)^,Designated:^1920^,City:^Christian Island^,Type:^NHistoric^,Description:^A Jesuit mission to the Huron-Wendat 1649-50; in 1651, remaining Huron-Wendat made their last stand against the Iroquois from this mission before fleeing to Quebec^},\n",
      "{name:^Fort St. Joseph ^,location:[46.06333,-83.94667],Date:^1796 (established)^,Designated:^1923^,City:^St. Joseph Island^,Type:^NHistoric^,Description:^Built as a counterpoint to an American garrison on Mackinac Island, Fort St. Joseph was the British Empire's most westerly outpost; destroyed by the Americans in 1812 when British forces left to take Fort Michilimackinac; the ruins of the fortifications and the archaeological resources on the site reveal the complex aspects of military, domestic and commercial life (both Aboriginal and European) in a frontier outpost^},\n",
      "{name:^Fort St. Pierre ^,location:[48.6183861,-93.3601000],Date:^1731 (established)^,Designated:^1934^,City:^Fort Frances^,Type:^NHistoric^,Description:^The first French fort built west of Fort Kaministiquia by Pierre La VÃ©rendrye in Northwestern Ontario^},\n",
      "{name:^Fort Wellington ^,location:[44.7129000,-75.508500],Date:^1813 (established)^,Designated:^1920^,City:^Prescott^,Type:^NHistoric^,Description:^One of the best preserved nineteenth-century fortifications in Canada, the fort protected shipping along the St. Lawrence River during War of 1812^},\n",
      "{name:^Fort William ^,location:[48.34278,-89.35833],Date:^1803 (established)^,Designated:^1923^,City:^Thunder Bay^,Type:^NHistoric^,Description:^Important North West Company post, now serving as a reconstructed living history site^},\n",
      "{name:^FranÃ§ois BÃ¢by House ^,location:[42.318500,-83.0424000],Date:^1812 (completed)^,Designated:^1950^,City:^Windsor^,Type:^NHistoric^,Description:^During the War of 1812, American forces crossed the Detroit River and used the house as headquarters for their invasion; when the Americans retreated one month later, the BÃ¢by House was occupied by British forces under Major-General Isaac Brock, who built an artillery battery on the property and used it to open fire on Fort Detroit^},\n",
      "{name:^Fulford Place ^,location:[44.5972889,-75.6708250],Date:^1901 (completed)^,Designated:^1992^,City:^Brockville^,Type:^NHistoric^,Description:^An excellent intact example of the type of mansion erected by wealthy Canadians in the late 19th and early 20th centuries, with the general layout of the site remaining as it was originally laid out by the Olmsted Brothers^},\n",
      "{name:^Gillies Grove and House ^,location:[45.4449889,-76.3589500],Date:^1937 (completed)^,Designated:^1993^,City:^Arnprior^,Type:^NHistoric^,Description:^House associated with two of the most prominent forest industry families in the Ottawa Valley, the McLachlins and the Gillies; surrounded by one of the few remaining accessible woodlots containing significant stands of old growth Ottawa Valley White Pine^},\n",
      "{name:^Glanmore / Phillips-Faulkner House ^,location:[44.1669750,-77.3675361],Date:^1883 (completed)^,Designated:^1969^,City:^Belleville^,Type:^NHistoric^,Description:^House designed by architect Thomas Hanley for J.P.C Phillips, a wealthy Belleville banker and financier; an excellent representative example of the Second Empire style popular among the upper middle class in late 19th-century Canada^},\n",
      "{name:^Glengarry Cairn ^,location:[45.1217194,-74.4898139],Date:^1842 (completed)^,Designated:^1921^,City:^South Glengarry^,Type:^NHistoric^,Description:^Large cairn erected by the Glengarry militia to commemorate the services of Sir John Colborne, commander-in-chief of the armed forces during the Upper Canada Rebellion^},\n",
      "{name:^Glengarry House ^,location:[45.03944,-74.6190972],Date:^1792 (completed)^,Designated:^1921^,City:^Cornwall^,Type:^NHistoric^,Description:^The ruins of the residence of Lieutenant Colonel John Macdonell, a pioneer in the settlement of Ontario, first Speaker of the Legislative Assembly of Upper Canada, and a hero of the Battle of Queenston Heights^},\n",
      "{name:^Glengarry Landing ^,location:[44.4518278,-79.9000667],Date:^1814 (flotilla construction)^,Designated:^1923^,City:^Edenvale^,Type:^NHistoric^,Description:^Site at the junction of the Nottawasaga River and Marl Creek, where in 1814 the Glengarry Light Infantry Fencibles, under the command of Lieutenant-Colonel Robert McDouall, constructed a flotilla of boats to relieve the British garrison at Fort Michilimackinac and to effect the subsequent capture of Prairie du Chien during the War of 1812^},\n",
      "{name:^Guelph City Hall ^,location:[43.544083,-80.247750],Date:^1857 (completed)^,Designated:^1984^,City:^Guelph^,Type:^NHistoric^,Description:^A two-storey, limestone building built in the Renaissance Revival style, it is an excellent example of a multi-functional city hall, which contained the market, fire hall, police office and jail, library, a reading room, a large public hall, along with town offices and a council chamber; symbolic of Guelph's mid-19th-century confidence following the arrival of the Grand Trunk Railway in the community^},\n",
      "{name:^Hamilton and Scourge ^,location:[43.2962000,-79.297944],Date:^1813 (sinking)^,Designated:^1976^,City:^Lake Ontario (11 kilometres (6.8Â mi) north of St. Catharines)^,Type:^NHistoric^,Description:^The USS Hamilton and USS Scourge were two merchant schooners pressed into service by the Americans in the War of 1812, both of which capsized and sank in a sudden squall; the ships are in remarkable condition at the underwater wreckage site and are rare examples of surviving War of 1812 vessels^},\n",
      "{name:^Her Majesty's / St. Paul's Chapel of the Mohawks ^,location:[43.1244472,-80.2349556],Date:^1785 (completed)^,Designated:^1981^,City:^Brantford^,Type:^NHistoric^,Description:^The first Protestant church in Upper Canada, now the oldest surviving church in Ontario, and one of only two Royal Chapels in Canada; symbolic of the important role played by the Loyalist Mohawks in the development of the province^},\n",
      "{name:^Hillary House ^,location:[44.0028028,-79.4686278],Date:^1862 (completed)^,Designated:^1973^,City:^Aurora^,Type:^NHistoric^,Description:^Now operating as the Koffler Museum of Medicine, an excellent example of a Picturesque house in the Gothic Revival style^},\n",
      "{name:^Homer Watson House / Doon School of Fine Arts ^,location:[43.3948667,-80.4184944],Date:^1834 (completed)^,Designated:^1980^,City:^Kitchener^,Type:^NHistoric^,Description:^Once the home and studio of Canadian landscape artist Homer Watson; some of Watson's most well-known works are views of the surrounding countryside from various vantage points on this property^},\n",
      "{name:^Homewood ^,location:[44.6332083,-75.6168694],Date:^1801 (completed)^,Designated:^1982^,City:^Augusta^,Type:^NHistoric^,Description:^A two-storey fieldstone residence built for Dr. Solomon Jones, a prominent Loyalist; the house reflects the lifestyle of a prominent rural professional in the early 19th century and its design uniquely melds the Palladian style and the rural architectural traditions of nearby Quebec^},\n",
      "{name:^Huron County Gaol ^,location:[43.7496750,-81.7082833],Date:^1841 (completed)^,Designated:^1973^,City:^Goderich^,Type:^NHistoric^,Description:^A distinctive octagonal jail design in the Panopticon style of prison construction^},\n",
      "{name:^Inverarden House ^,location:[45.0313250,-74.6710722],Date:^1823 (completed)^,Designated:^1968^,City:^Cornwall^,Type:^NHistoric^,Description:^Built for retired North West Company partner John MacDonald of Garth, the manor house is an excellent early example of Regency architecture in Canada^},\n",
      "{name:^Joseph Schneider Haus ^,location:[43.4448194,-80.4946278],Date:^1816 (completed)^,Designated:^1999^,City:^Kitchener^,Type:^NHistoric^,Description:^A house museum associated with the migration of German Mennonites from Lancaster County, Pennsylvania to Waterloo County in the early 19th century, and illustrative of the typical Mennonite house plan from the period^},\n",
      "{name:^Kay-Nah-Chi-Wah-Nung (Rainy River Mounds) ^,location:[48.646933,-94.094017],Date:^3000 BCE (ca.)^,Designated:^1969^,City:^Morley^,Type:^NHistoric^,Description:^One of the most significant centres of early habitation and ceremonial burial in Canada, with evidence of 5,000 years of human habitation, including burial mounds from the Laurel and Blackduck cultures; a cultural and historic focal point for the Rainy Lake and River Bands of Saulteaux^},\n",
      "{name:^Lansdowne Iron Works ^,location:[44.5493278,-76.126028],Date:^1801 (established)^,Designated:^1932^,City:^Leeds and the Thousand Islands^,Type:^NHistoric^,Description:^The first ironworks in Upper Canada, destroyed by fire after a decade in operation^},\n",
      "{name:^Leaskdale Manse ^,location:[44.2030972,-79.1604333],Date:^1886 (completed)^,Designated:^1996^,City:^Leaskdale^,Type:^NHistoric^,Description:^The home of Lucy Maud Montgomery when she wrote 11 of the 22 works published during her lifetime; the house and its immediate area figure prominently in her posthumously published journals^},\n",
      "{name:^Leeds and Grenville County Court House ^,location:[44.5908639,-75.6857472],Date:^1844 (completed)^,Designated:^1966^,City:^Brockville^,Type:^NHistoric^,Description:^A landmark building set on a hill at the top of the historic Brockville town square; one of the most grandiose district courthouses built in Upper Canada^},\n",
      "{name:^Lynnwood / Campbell-Reid House ^,location:[42.8378972,-80.3033222],Date:^1851 (completed)^,Designated:^1972^,City:^Simcoe^,Type:^NHistoric^,Description:^Excellent example of a modestly-sized house in the Neoclassical style; located on a rise overlooking the Lynn River^},\n",
      "{name:^Macdonell-Williamson House ^,location:[45.5636278,-74.3832556],Date:^1819 (completed)^,Designated:^1969^,City:^East Hawkesbury^,Type:^NHistoric^,Description:^A stone house built on the banks of the Ottawa River as a retirement home for former North West Company partner John Macdonell^},\n",
      "{name:^Matheson House ^,location:[44.9010889,-76.2506639],Date:^1840 (completed)^,Designated:^1966^,City:^Perth^,Type:^NHistoric^,Description:^Built for Roderick Matheson, a local merchant and politician, the house is a good example of an affluent, pre-Confederation residence; it occupies a key position in one of the best surviving historic streetscapes in Canada, and now serves as the Perth Museum^},\n",
      "{name:^Mazinaw Pictographs ^,location:[44.9005722,-77.2064222],Date:^nan^,Designated:^1982^,City:^Bon Echo Provincial Park^,Type:^NHistoric^,Description:^The largest rock art site on the southern Canadian Shield and the only major pictograph site in Southern Ontario^},\n",
      "{name:^McCrae House ^,location:[43.536028,-80.245028],Date:^1858 (ca.) (completed)^,Designated:^1966^,City:^Guelph^,Type:^NHistoric^,Description:^The birthplace of John McCrae, the author of In Flanders Fields^},\n",
      "{name:^McMartin House ^,location:[44.8978139,-76.2469417],Date:^1830 (completed)^,Designated:^1972^,City:^Perth^,Type:^NHistoric^,Description:^Built for Daniel McMartin, a member of Upper Canada's Tory Loyalist elite; an example of American federal architecture that was elaborate for the time and place of construction^},\n",
      "{name:^Merrickville Blockhouse ^,location:[44.9168167,-75.8377861],Date:^1833 (completed)^,Designated:^1939^,City:^MerrickvilleâWolford^,Type:^NHistoric^,Description:^A relatively large, British-designed blockhouse, considered an excellent example of the structures erected for the defence of the Rideau Canal in the 19th-century^},\n",
      "{name:^Middleport Site ^,location:[43.0983361,-80.0678278],Date:^nan^,Designated:^1953^,City:^Six Nations of the Grand River First Nation^,Type:^NHistoric^,Description:^Archaeological site related to the Middle Ontario Iroquois^},\n",
      "{name:^Middlesex County Court House ^,location:[42.9821083,-81.2543472],Date:^1829 (completed)^,Designated:^1955^,City:^London^,Type:^NHistoric^,Description:^A very early and nationally significant example of the Gothic Revival style in Canada; associated with the early government of the province, as the site of the building was proposed by John Graves Simcoe for the provincial capital^},\n",
      "{name:^Mission of St. Ignace II ^,location:[44.719389,-79.7179778],Date:^1649 (attack)^,Designated:^1955^,City:^Tay^,Type:^NHistoric^,Description:^Destruction of Saint Ignace II and nearby Saint-Louis sealed the fate of the Huron- Wendat confederacy, leading to the abandonment of their traditional homeland^},\n",
      "{name:^Mnjikaning Fish Weirs ^,location:[44.6043417,-79.369611],Date:^3300 BCE (ca.)^,Designated:^1982^,City:^Ramara^,Type:^NHistoric^,Description:^The site of the largest and best preserved wooden fish weirs known in eastern North America, in use from about 3300 B.C. until the recent past^},\n",
      "{name:^Moose Factory Buildings ^,location:[51.2786694,-80.639306],Date:^1673 (established)^,Designated:^1957^,City:^Moose Factory^,Type:^NHistoric^,Description:^19th-century buildings associated with the second Hudson's Bay Company post in Canada; after the 1821 merger with the North West Company, Moose Factory became the supply point for posts inland as far as Lake Timiskaming^},\n",
      "{name:^Nanticoke ^,location:[42.7976056,-80.0533389],Date:^1813 (battle)^,Designated:^1924^,City:^Nanticoke^,Type:^NHistoric^,Description:^The site where the Norfolk volunteer militia routed a band of American marauders who had been pillaging area farms and terrorizing the country, an exploit that inspired the British military forces and the people of Upper Canada during the War of 1812; now the location of the Nanticoke Generating Station^},\n",
      "{name:^Napanee Town Hall ^,location:[44.2485889,-76.9506889],Date:^1856 (completed)^,Designated:^1984^,City:^Greater Napanee^,Type:^NHistoric^,Description:^An early Ontario example of a combination town hall and market, and a rare extant example in Canada of a town hall in the Greek Revival style; symbolic of the development of local government in Ontario in the 19th century^},\n",
      "{name:^Nazrey African Methodist Episcopal Church ^,location:[42.1013583,-83.1060139],Date:^1848 (completed)^,Designated:^1999^,City:^Amherstburg^,Type:^NHistoric^,Description:^A simple fieldstone chapel, now part of the North American Black Historical Museum complex; it has an important association with Bishop Willis Nazery, the first leader of a wholly Canadian denomination (the British Methodist Episcopal Church) founded by Underground Railroad refugees^},\n",
      "{name:^Normandale Furnace ^,location:[42.709750,-80.309883],Date:^1818 (commenced operations)^,Designated:^1927^,City:^Normandale^,Type:^NHistoric^,Description:^The site of an early 19th-century Ontario iron smelter^},\n",
      "{name:^Old Hay Bay Church ^,location:[44.1031806,-77.0170361],Date:^1792 (completed)^,Designated:^2001^,City:^Greater Napanee^,Type:^NHistoric^,Description:^Built by United Empire Loyalist settlers, it is the oldest surviving Methodist building in Canada and is associated with the role played by Methodists in Upper Canadaâs early development; a significant element of the history of the United Church of Canada^},\n",
      "{name:^Old Stone Church ^,location:[44.4262861,-79.1158750],Date:^1853 (completed)^,Designated:^1991^,City:^Beaverton^,Type:^NHistoric^,Description:^A small rural fieldstone church; a particularly good example of the few early stone vernacular churches surviving in Canada^},\n",
      "{name:^Old Stone Mill ^,location:[44.6102056,-76.1223806],Date:^1810 (completed)^,Designated:^1970^,City:^Delta^,Type:^NHistoric^,Description:^A three-storey stone gristmill which played an important role in the settlement and economic development of Leeds County; one of the oldest surviving mills in Ontario^},\n",
      "{name:^Old Woodstock Town Hall ^,location:[43.1293806,-80.757472],Date:^1853 (completed)^,Designated:^1955^,City:^Woodstock^,Type:^NHistoric^,Description:^A two-storey, buff-brick, Italianate-style town hall building; an excellent example of a Canadian colonial adaptation of a British town hall^},\n",
      "{name:^Oro African Methodist Episcopal Church ^,location:[44.5026889,-79.6363528],Date:^1849 (completed)^,Designated:^2000^,City:^Edgar^,Type:^NHistoric^,Description:^A log church with an unmarked cemetery; the last built remnant of a community of Black Canadians with United Empire Loyalist roots^},\n",
      "{name:^Ossossane Sites ^,location:[44.6823250,-79.9512528],Date:^nan^,Designated:^1982^,City:^Ossossane Beach^,Type:^NHistoric^,Description:^Archaeological site of the principal village of Bear Clan of the Hurons^},\n",
      "{name:^Our Lady of the Immaculate Conception ^,location:[43.5429944,-80.2516306],Date:^1888 (completed)^,Designated:^1990^,City:^Guelph^,Type:^NHistoric^,Description:^Influenced by the medieval cathedrals of France, the church on a hill is an exceptional example of the Victorian High Gothic style in Canadian architecture^},\n",
      "{name:^Oxford-on-Rideau Township Hall ^,location:[44.9625972,-75.6786556],Date:^1875 (completed)^,Designated:^1984^,City:^Oxford Mills^,Type:^NHistoric^,Description:^A two-storey stone building with a cupola, this small town hall is representative of early local government in Canada^},\n",
      "{name:^Park House^,location:[42.103659,-83.113490],Date:^1796 (built)^,Designated:^2018^,City:^Amherstburg^,Type:^NHistoric^,Description:^Considered one of the oldest houses in the Amherstburg region, Park House is a rare example of a once-common colonial building type found in settlements and fur-trading posts across colonial North America. Through its architecture, Park House tells the story of the traders and artisans who populated the Windsor region.^},\n",
      "{name:^Parkhill ^,location:[43.15917,-81.70778],Date:^8000 BCE (ca.)^,Designated:^1982^,City:^Parkhill^,Type:^NHistoric^,Description:^The first major Palaeo-Indian habitation site reported in Ontario, consisting of concentrations of stone artifactual material distributed over 6 hectares (15 acres)^},\n",
      "{name:^Parkwood ^,location:[43.9033194,-78.8684667],Date:^1940 (completed)^,Designated:^1989^,City:^Oshawa^,Type:^NHistoric^,Description:^A residential estate developed between 1915 and 1940 by Canadian industrialist Samuel McLaughlin; among the finest and most intact surviving examples of Canadian architectural and landscape design, featuring the work of Pearson and Darling, Frances Loring, John M. Lyle, Florence Wyle and others^},\n",
      "{name:^Penman Textile Mill ^,location:[43.1975778,-80.3896833],Date:^1874 (completed)^,Designated:^1989^,City:^Paris^,Type:^NHistoric^,Description:^The first and most important plant of the largest knitting firm in Canada, the Penman Manufacturing Company^},\n",
      "{name:^Perth Town Hall ^,location:[44.8991278,-76.2488833],Date:^1864 (completed)^,Designated:^1984^,City:^Perth^,Type:^NHistoric^,Description:^A two-storey stone building topped by a layered cupola with clock, symbolic of the role and importance of local government in the 19th century^},\n",
      "{name:^Peterborough Drill Hall / Armoury ^,location:[44.3086556,-78.3222944],Date:^1909 (completed)^,Designated:^1989^,City:^Peterborough^,Type:^NHistoric^,Description:^Built in the Romanesque Revival style, the armoury is representative of the third phase of drill hall construction in Canada (1896â1918); one of the largest and best designed examples from the 1907-1909 period^},\n",
      "{name:^Peterborough Lift Lock ^,location:[44.3076806,-78.3002889],Date:^1904 (completed)^,Designated:^1979^,City:^Peterborough^,Type:^NHistoric^,Description:^A large boat lift along the Trent-Severn Waterway designed to lift boats 19.8 metres (65Â ft); it is the highest hydraulic lift lock in the world, and at the time of its construction was an engineering achievement of national and international renown^},\n",
      "{name:^Peterborough Petroglyphs ^,location:[44.613444,-78.0441278],Date:^900 to 1400 (ca.)^,Designated:^1981^,City:^Otonabee-South Monaghan^,Type:^NHistoric^,Description:^An outcrop of exposed marble inscribed with hundreds of realistic human and animal forms, as well as numerous abstract and symbolic images; one of the largest known concentrations of pre-contact petroglyphs in Canada^},\n",
      "{name:^Pic River Site ^,location:[48.6263278,-86.2849056],Date:^nan^,Designated:^1981^,City:^Pic River^,Type:^NHistoric^,Description:^A site comprising four archaeological nodes: the Pic River site, Fort Pic, the Heron Bay site, and the Duncan site, which together represent numerous Aboriginal and European occupations dating from 12000 BCE to the late 19th century^},\n",
      "{name:^Point Clark Lighthouse ^,location:[44.0728556,-81.7573250],Date:^1859 (completed)^,Designated:^1966^,City:^Point Clark^,Type:^NHistoric^,Description:^One of six Imperial Towers on Lake Huron; noted for its distinctive lantern and the quality of its architecture^},\n",
      "{name:^Pointe au Baril ^,location:[44.637583,-75.609583],Date:^nan^,Designated:^1923^,City:^Maitland^,Type:^NHistoric^,Description:^The \"Iroquoise\" and \"Outaouaise\", the last two French warships that navigated Lake Ontario, were built on this point^},\n",
      "{name:^Port Hope Capitol Theatre^,location:[43.950798,-78.293215],Date:^1930^,Designated:^2016^,City:^Port Hope^,Type:^NHistoric^,Description:^Rare and outstanding \"atmospheric\" theatre of the 1920s, among the first to present \"talkies\"^},\n",
      "{name:^Port Stanley ^,location:[42.6658306,-81.2119472],Date:^1669 (first European contact)^,Designated:^1923^,City:^Port Stanley^,Type:^NHistoric^,Description:^An important landing point for a succession of explorers and travellers of the 17th and 18th centuries, marked by a cairn commemorating events including the landing of Adrien Jolliet in 1669 (during the first descent of the Great Lakes by Europeans) and the encampment by Isaac Brock and his troops in the War of 1812^},\n",
      "{name:^Port Talbot ^,location:[42.640050,-81.366150],Date:^1803 (established)^,Designated:^1923^,City:^Port Talbot^,Type:^NHistoric^,Description:^Founded in 1803 by Thomas Talbot, the settlement was one of the most prosperous of its time in Upper Canada, noted for its good roads, with Talbot keeping out land speculators and securing hard-working settlers; Talbot's authoritarian control of the settlers led to his downfall at the hands of colonial authorities^},\n",
      "{name:^Prescott Railway Station (Grand Trunk) ^,location:[44.7110167,-75.524611],Date:^1855 (completed)^,Designated:^1973^,City:^Prescott^,Type:^NHistoric^,Description:^A small, stone train station, typical of the smaller stations erected for the Grand Trunk Railway during the first construction period of the GTR line between Montreal and Brockville^},\n",
      "{name:^Rideau Canal ^,location:[45.42583,-75.69722],Date:^1832 (completed)^,Designated:^1925^,City:^Ottawa to Kingston^,Type:^NHistoric^,Description:^Built for the British government by Lieutenant-Colonel John By as a defensive work in the event of war with the United States, the canal is the best preserved example of a 19th-century slack water canal in North America, with most of its original structures intact^},\n",
      "{name:^Ridout Street Complex ^,location:[42.9836861,-81.2548500],Date:^1838 to 1870 (period of construction)^,Designated:^1966^,City:^London^,Type:^NHistoric^,Description:^Comprising three mid-19th-century residential and commercial buildings, the grouping is representative of the appearance of Ontario cities in that period and of London's early residential and commercial architecture^},\n",
      "{name:^Rosamond Woollen Mill ^,location:[45.2281028,-76.2003667],Date:^1866 (established)^,Designated:^1986^,City:^Almonte^,Type:^NHistoric^,Description:^At one time one of the largest mills in Canada, it is characteristic of late 19th-century textile mills in Canada^},\n",
      "{name:^Royal Flying Corps Hangars ^,location:[44.2689278,-79.8884583],Date:^1917 (completed)^,Designated:^1989^,City:^Essa^,Type:^NHistoric^,Description:^Eight surviving First World War hangars at CFB Borden which played a significant role in the development of military aviation in Canada^},\n",
      "{name:^Ruin of St. Raphael's Roman Catholic Church ^,location:[45.2117194,-74.5970389],Date:^1821 (main church completed)^,Designated:^1996^,City:^South Glengarry^,Type:^NHistoric^,Description:^St. Raphael's roof, tower and interior decoration were destroyed by fire in 1970, but the ruins were preserved; one of the earliest surviving Roman Catholic monuments in English-speaking Canada^},\n",
      "{name:^Ruthven Park ^,location:[42.979278,-79.8750889],Date:^1846 (completed)^,Designated:^1995^,City:^Cayuga^,Type:^NHistoric^,Description:^An estate with a Greek Revival villa, laid out by David Thompson; associated with the transformation of Upper Canada from a \"settler\" to a \"settled\" society^},\n",
      "{name:^Saint-Louis Mission ^,location:[44.7290972,-79.7812833],Date:^1649 (attack)^,Designated:^1920^,City:^Victoria Harbour^,Type:^NHistoric^,Description:^A 2-hectare (4.9-acre) archaeological site, once the site of a stockaded Huron-Wendat village and nearby Jesuit mission; an Iroquois attack in 1649 led to a chain of events resulting in the abandonment of Huronia by the Huron-Wendat in 1650^},\n",
      "{name:^Sainte-Marie Among the Hurons Mission ^,location:[44.7343639,-79.8454194],Date:^1639 (established)^,Designated:^1920^,City:^Midland^,Type:^NHistoric^,Description:^The reconstructed main Jesuit mission to the Huron-Wendat; over ten years, it grew into a sizeable colony, but was abandoned in 1649 due to disease and conflict^},\n",
      "{name:^Sandwich First Baptist Church ^,location:[42.2917972,-83.0802556],Date:^1851 (completed)^,Designated:^1999^,City:^Windsor^,Type:^NHistoric^,Description:^One of the oldest Baptist churches surviving from this period in Ontario; representative of the churches in border settlements built to accommodate the communities created by Underground Railroad refugees^},\n",
      "{name:^Sault Ste. Marie Canal ^,location:[46.51278,-84.35139],Date:^1895 (completed)^,Designated:^1987^,City:^Sault Ste. Marie^,Type:^NHistoric^,Description:^Now operated as a recreational facility, the canal and associated works were a significant part of Canada's national canal system at the time of their construction; the first electrically-powered lock in the world^},\n",
      "{name:^Serpent Mounds ^,location:[44.21111,-78.15694],Date:^50 BCE to 300 CE (ca.)^,Designated:^1982^,City:^Keene^,Type:^NHistoric^,Description:^A grouping of six separate burial mounds forming a serpentine shape approximately 60 metres (200Â ft) long; the only one of its kind in Canada^},\n",
      "{name:^Sharon Temple ^,location:[44.101333,-79.4418750],Date:^1831 (completed)^,Designated:^1990^,City:^Sharon^,Type:^NHistoric^,Description:^A temple built by the Children of Peace, a schismatic Quaker sect, and its design and aesthetics embody the values of the group; acquired by a local historic group in 1917, and is representative of the early heritage conservation movement in Canada^},\n",
      "{name:^Sheguiandah ^,location:[45.8779694,-81.9011444],Date:^11,000 BCE (ca.) (first occupation)^,Designated:^1954^,City:^Manitoulin District^,Type:^NHistoric^,Description:^An archaeological site on Manitoulin Island where successive aboriginal peoples quarried quartzite, leaving behind artifacts spanning approximately 10,000 years of occupation^},\n",
      "{name:^Sir John Johnson House ^,location:[45.1447361,-74.5794750],Date:^1792 (original core completed)^,Designated:^1961^,City:^Williamstown^,Type:^NHistoric^,Description:^A wooden house of typical 19th-century Ontario vernacular design; associated with noted Loyalist Sir John Johnson, 2nd Baronet^},\n",
      "{name:^Smiths Falls Bascule Bridge ^,location:[44.8972139,-76.0270528],Date:^1913 (completed)^,Designated:^1983^,City:^Smiths Falls^,Type:^NHistoric^,Description:^A bascule bridge over the Rideau Canal; an early example of distinctive design in movable bridges, it is the oldest surviving structure of its type^},\n",
      "{name:^Smiths Falls Railway Station (Canadian Northern) ^,location:[44.8991889,-76.0277083],Date:^1914 (completed)^,Designated:^1983^,City:^Smiths Falls^,Type:^NHistoric^,Description:^Now serving as the Smiths Falls Railway Museum, the station's distinctive turret, polygonal waiting room and substantial construction were a departure from the usual practice of building cheaply from standard plans; representative of Canadian Northern Railway's efforts to compete directly with the Canadian Pacific Railway^},\n",
      "{name:^Southwold Earthworks ^,location:[42.674317,-81.36059067],Date:^1500 (ca.)(occupation)^,Designated:^1923^,City:^Iona^,Type:^NHistoric^,Description:^Rare and well-preserved archaeological remains of an Attawandaron fortified village^},\n",
      "{name:^St. Jude's Anglican Church ^,location:[43.1398722,-80.2534917],Date:^1871 (completed)^,Designated:^1993^,City:^Brantford^,Type:^NHistoric^,Description:^A small 1871 church in the High Victorian Gothic Revival style; known for its striking interior murals, painted in 1936, influenced by the Arts and Crafts Movement and the work of William Morris^},\n",
      "{name:^St. Marys Junction Railway Station (Grand Trunk) ^,location:[43.2718222,-81.1312583],Date:^1858 (completed)^,Designated:^1973^,City:^St. Marys Junction^,Type:^NHistoric^,Description:^A one-storey limestone building in the Italianate style which served for a time as the western terminus of the Grand Trunk Railway; representative of the Grand Trunk's original Ontario stations, and a rare surviving stone example^},\n",
      "{name:^St. Thomas City Hall ^,location:[42.7790972,-81.192722],Date:^1899 (completed)^,Designated:^1984^,City:^St. Thomas^,Type:^NHistoric^,Description:^A well-designed late Victorian civic building with a commanding clock tower, reflective of the tremendous growth of the city at the end of the 19th century; one of the few surviving unaltered Richardsonian Romanesque town halls in Canada^},\n",
      "{name:^Stephen Leacock Museum / Old Brewery Bay ^,location:[44.6082583,-79.3939778],Date:^1928 (completed)^,Designated:^1992^,City:^Orillia^,Type:^NHistoric^,Description:^A two-storey house on a four 4-hectare (9.9-acre) property on the shores of Lake Couchiching; home of and inspiration to Stephen Leacock, one of Canada's most celebrated authors and humorists^},\n",
      "{name:^Stratford City Hall ^,location:[43.3699972,-80.9821889],Date:^1899 (completed)^,Designated:^1976^,City:^Stratford^,Type:^NHistoric^,Description:^A monumental red brick city hall with a prominent clock tower; a noted late 19th-century Picturesque municipal building, representative of an era when growing cities sought to express their civic pride and ambition in impressive civic buildings^},\n",
      "{name:^Thistle Ha' Farm ^,location:[43.9397333,-79.109139],Date:^1852 (livestock operation began)^,Designated:^1973^,City:^Claremont^,Type:^NHistoric^,Description:^An 80-hectare (200-acre) working farm where groundbreaking breeding of pedigree livestock in Canada occurred in the 19th century; the work undertaken here played an important role in improving stock breeding throughout the Americas^},\n",
      "{name:^Thunder Bay Tourist Pagoda ^,location:[48.4345722,-89.2180500],Date:^1909 (completed)^,Designated:^1986^,City:^Thunder Bay^,Type:^NHistoric^,Description:^An octagonal brick tourism bureau featuring a pagoda-shaped roof with cupola, surrounded by a verandah and with an entrance surmounted by a carved beaver; symbolic of civic boosterism and novelty architecture^},\n",
      "{name:^Trent to Severn Waterway ^,location:[44.1208250,-77.5914194 ],Date:^1830 (commenced) - 1920 (completed)^,Designated:^1929^,City:^Trenton^,Type:^NHistoric^,Description:^A 386-kilometre (240Â mi) natural and man-made waterway that links Georgian Bay to the Bay of Quinte; an important transportation route noted for the high number of surviving unmodified structures in some sections dating from the waterway's construction^},\n",
      "{name:^Severn Waterway^,location:[44.8037000,-79.7207028],Date:^1830 (commenced) - 1920 (completed)^,Designated:^1929^,City:^Cobourg^,Type:^NHistoric^,Description:^A 386-kilometre (240Â mi) natural and man-made waterway that links Georgian Bay to the Bay of Quinte; an important transportation route noted for the high number of surviving unmodified structures in some sections dating from the waterway's construction^},\n",
      "{name:^Victoria Hall / Cobourg Town Hall ^,location:[43.9594111,-78.1678083],Date:^1860 (completed)^,Designated:^1959^,City:^Petrolia^,Type:^NHistoric^,Description:^A neoclassical three-storey civic building; one of the more extravagant examples of town halls constructed in Canada West after landmark municipal legislation in 1848, symbolic of the prosperity and optimism of Cobourg during the 1850s^},\n",
      "{name:^Victoria Hall / Petrolia Town Hall ^,location:[42.8811972,-82.1468250],Date:^1889 (completed)^,Designated:^1975^,City:^Onondaga^,Type:^NHistoric^,Description:^A buff brick town hall with prominent clock tower, reflective of the time in the 1880s when Petrolia was among the wealthiest towns in Canada due to the local oil boom^},\n",
      "{name:^Walker Site ^,location:[43.11667,-80.11667],Date:^nan^,Designated:^1982^,City:^Fergus^,Type:^NHistoric^,Description:^Large Iroquoian archaeological site pertaining to the historic Attiwandaronk tribe^},\n",
      "{name:^Wellington County House of Industry and Refuge ^,location:[43.6930722,-80.3997722],Date:^1877 (completed)^,Designated:^1995^,City:^Sault Ste. Marie^,Type:^NHistoric^,Description:^A former farm dominated by a two-storey Italianate-style stone building; oldest known state-supported poorhouse or almshouse in Canada, now serving as the county museum and archives^},\n",
      "{name:^Whitefish Island ^,location:[46.511000,-84.354000],Date:^300 BCE (ca.) (first Aboriginal encampments)^,Designated:^1981^,City:^Wilberforce^,Type:^NHistoric^,Description:^A small, naturalized island that was occupied by eight successive cultures, culminating in the development of the Ojibwa nation; its location made it a focal point of pre-contact trade and settlement^},\n",
      "{name:^Wilberforce Red Cross Outpost ^,location:[45.0389056,-78.2235889],Date:^1916 (completed); 1922-57 (health centre operational)^,Designated:^2003^,City:^Port Dover^,Type:^NHistoric^,Description:^A simple frame house that served as the first outpost of the Ontario Division of the Canadian Red Cross; dedicated women provided nurse care with minimal medical backup, facilities and equipment, and the site is representative of the key role of nurses in providing health care and education in isolated areas^},\n",
      "{name:^Wintering Site ^,location:[42.7946250,-80.189333],Date:^1669â70 (event)^,Designated:^1919^,City:^Wolfe Island^,Type:^NHistoric^,Description:^Explorers FranÃ§ois Dollier de Casson and RenÃ© de BrÃ©hant de GalinÃ©e and seven other Frenchmen wintered at this site - the first Europeans known to have ascended the Great Lakes to Sault Ste. Marie^},\n",
      "{name:^Wolfe Island Township Hall ^,location:[44.1931222,-76.4408000],Date:^1859 (completed)^,Designated:^1984^,City:^London^,Type:^NHistoric^,Description:^A small Italianate rural town hall; an unusually sophisticated example of its type^},\n",
      "{name:^Wolseley Barracks ^,location:[43.000139,-81.2338972],Date:^1888 (completed)^,Designated:^1963^,City:^Kitchener^,Type:^NHistoric^,Description:^The first purpose-built infantry training school erected by the federal government, originally used to house Company \"D\" of the Infantry School Corps of The Royal Canadian Regiment; an important early step in the development of a permanent military force in Canada following the withdrawal of regular British troops from Canada in 1871^},\n"
     ]
    },
    {
     "ename": "TypeError",
     "evalue": "can only concatenate str (not \"float\") to str",
     "output_type": "error",
     "traceback": [
      "\u001b[1;31m---------------------------------------------------------------------------\u001b[0m",
      "\u001b[1;31mTypeError\u001b[0m                                 Traceback (most recent call last)",
      "\u001b[1;32m<ipython-input-29-b7f539ef04ff>\u001b[0m in \u001b[0;36m<module>\u001b[1;34m\u001b[0m\n\u001b[0;32m      6\u001b[0m           \u001b[1;33m+\u001b[0m \u001b[1;34m\"City:\"\u001b[0m \u001b[1;33m+\u001b[0m \u001b[1;34m\"^\"\u001b[0m \u001b[1;33m+\u001b[0m \u001b[0mrow\u001b[0m\u001b[1;33m[\u001b[0m\u001b[1;34m\"Location\"\u001b[0m\u001b[1;33m]\u001b[0m \u001b[1;33m+\u001b[0m \u001b[1;34m\"^\"\u001b[0m \u001b[1;33m+\u001b[0m \u001b[1;34m\",\"\u001b[0m\u001b[1;33m\u001b[0m\u001b[1;33m\u001b[0m\u001b[0m\n\u001b[0;32m      7\u001b[0m           \u001b[1;33m+\u001b[0m \u001b[1;34m\"Type:\"\u001b[0m \u001b[1;33m+\u001b[0m \u001b[1;34m\"^\"\u001b[0m \u001b[1;33m+\u001b[0m \u001b[0mrow\u001b[0m\u001b[1;33m[\u001b[0m\u001b[1;34m\"Type\"\u001b[0m\u001b[1;33m]\u001b[0m \u001b[1;33m+\u001b[0m \u001b[1;34m\"^\"\u001b[0m \u001b[1;33m+\u001b[0m \u001b[1;34m\",\"\u001b[0m\u001b[1;33m\u001b[0m\u001b[1;33m\u001b[0m\u001b[0m\n\u001b[1;32m----> 8\u001b[1;33m           + \"Description:\" + \"^\" + row[\"Description\"] + \"^\" + \"}\" + \",\")\n\u001b[0m",
      "\u001b[1;31mTypeError\u001b[0m: can only concatenate str (not \"float\") to str"
     ]
    }
   ],
   "source": [
    "for index, row in hard_code_hsites_df.iterrows():\n",
    "    print(\"{\" \"name:\" + \"^\" + row[\"Site\"] + \"^\" + \",\" \n",
    "          + \"location:\"\"[\" +row[\"Coordinates\"] + \"]\" + \",\" \n",
    "          + \"Date:\" + \"^\" + str(row[\"Date\"]) + \"^\" + \",\"\n",
    "          + \"Designated:\" + \"^\" + str(row[\"Designated\"]) + \"^\" + \",\"\n",
    "          + \"City:\" + \"^\" + row[\"Location\"] + \"^\" + \",\"\n",
    "          + \"Type:\" + \"^\" + row[\"Type\"] + \"^\" + \",\" \n",
    "          + \"Description:\" + \"^\" + str(row[\"Description\"]) + \"^\" + \"}\" + \",\")"
   ]
  },
  {
   "cell_type": "code",
   "execution_count": null,
   "metadata": {},
   "outputs": [],
   "source": [
    "  {\n",
    "    name: \"Jungle Land\",\n",
    "    location: [43.8199314544272, -79.37147]\n",
    "  },"
   ]
  }
 ],
 "metadata": {
  "kernelspec": {
   "display_name": "Python 3",
   "language": "python",
   "name": "python3"
  },
  "language_info": {
   "codemirror_mode": {
    "name": "ipython",
    "version": 3
   },
   "file_extension": ".py",
   "mimetype": "text/x-python",
   "name": "python",
   "nbconvert_exporter": "python",
   "pygments_lexer": "ipython3",
   "version": "3.7.3"
  }
 },
 "nbformat": 4,
 "nbformat_minor": 2
}
