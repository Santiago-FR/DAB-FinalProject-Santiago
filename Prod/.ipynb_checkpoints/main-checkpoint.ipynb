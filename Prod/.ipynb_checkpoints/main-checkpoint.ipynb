{
 "cells": [
  {
   "cell_type": "markdown",
   "metadata": {},
   "source": [
    " # DATA ANALYTICS BOOT CAMP\n",
    " ## Final Project - Santiago Facundo"
   ]
  },
  {
   "cell_type": "markdown",
   "metadata": {},
   "source": [
    "### Dependencies"
   ]
  },
  {
   "cell_type": "code",
   "execution_count": null,
   "metadata": {},
   "outputs": [],
   "source": [
    "import pandas as pd\n",
    "import requests\n",
    "import json\n",
    "import xml.etree.cElementTree as et\n",
    "\n",
    "# Google developer API key, Yelp key\n",
    "from config import gkey, ykey\n"
   ]
  },
  {
   "cell_type": "markdown",
   "metadata": {},
   "source": [
    "### Data Collection Google API"
   ]
  },
  {
   "cell_type": "code",
   "execution_count": null,
   "metadata": {},
   "outputs": [],
   "source": [
    "# Target for test\n",
    "target = \"ARTILLERY PARK HERITAGE SITE\"\n",
    "\n",
    "# Endpoint URL\n",
    "target_url = ('https://maps.googleapis.com/maps/api/geocode/json?'\n",
    "    'address={0}&key={1}').format(target, gkey)\n",
    "\n",
    "# Run request to endpoint and convert to json\n",
    "geo_data = requests.get(target_url).json()\n",
    "\n",
    "# Print the json (pretty printed)\n",
    "print(json.dumps(geo_data, indent=4, sort_keys=True))"
   ]
  },
  {
   "cell_type": "code",
   "execution_count": null,
   "metadata": {},
   "outputs": [],
   "source": [
    "# locate and Extract latitude and longitude\n",
    "lat = geo_data[\"results\"][0][\"geometry\"][\"location\"][\"lat\"]\n",
    "lng = geo_data[\"results\"][0][\"geometry\"][\"location\"][\"lng\"]\n",
    "# Print the latitude and longitude\n",
    "print('''\n",
    "    site: {0}\n",
    "    Latitude: {1}\n",
    "    Longitude: {2}\n",
    "    '''.format(target, lat, lng))"
   ]
  },
  {
   "cell_type": "code",
   "execution_count": null,
   "metadata": {},
   "outputs": [],
   "source": [
    "# Get list of all National Parks and Historic sites\n",
    "parsedXML = et.parse( \"parksid.xml\" )"
   ]
  },
  {
   "cell_type": "code",
   "execution_count": null,
   "metadata": {},
   "outputs": [],
   "source": [
    "def getvalueofnode(node):\n",
    "    \"\"\" return node text or None \"\"\"\n",
    "    return node.text if node is not None else None\n",
    "\n",
    "dfcols = ['Site_Id', 'Site_Name']\n",
    "df_xml = pd.DataFrame(columns=dfcols)\n",
    "\n",
    "\n",
    "for node in parsedXML.getroot():\n",
    "    Site_Id = node.find('ZPARK_ID')\n",
    "    Site_Name = node.find('UP_ENG_FULL')\n",
    "    \n",
    "    df_xml = df_xml.append(pd.Series([getvalueofnode(Site_Id), getvalueofnode(Site_Name)], index=dfcols), ignore_index=True)\n",
    " \n",
    "#     print (df_xml)"
   ]
  },
  {
   "cell_type": "code",
   "execution_count": null,
   "metadata": {},
   "outputs": [],
   "source": [
    "len(df_xml[\"Site_Name\"])"
   ]
  },
  {
   "cell_type": "code",
   "execution_count": null,
   "metadata": {},
   "outputs": [],
   "source": [
    "Latitude =[]\n",
    "Longitude =[]\n",
    "Site_name =[]\n",
    "NPH = df_xml[\"Site_Name\"]"
   ]
  },
  {
   "cell_type": "code",
   "execution_count": null,
   "metadata": {
    "scrolled": true
   },
   "outputs": [],
   "source": [
    "for i in NPH:\n",
    "    url = ('https://maps.googleapis.com/maps/api/geocode/json?'\n",
    "    'address={0}&key={1}').format(i, gkey)\n",
    "    s_data = requests.get(url).json()\n",
    "    try:\n",
    "        Site_name.append(s_data[\"results\"][0][\"address_components\"][0][\"long_name\"])\n",
    "        Latitude.append(s_data[\"results\"][0][\"geometry\"][\"location\"][\"lat\"])\n",
    "        Longitude.append(s_data[\"results\"][0][\"geometry\"][\"location\"][\"lng\"])\n",
    "    except IndexError as e:\n",
    "        print (e)"
   ]
  },
  {
   "cell_type": "code",
   "execution_count": null,
   "metadata": {},
   "outputs": [],
   "source": [
    "len(Latitude),len(Longitude),len(Site_name)"
   ]
  },
  {
   "cell_type": "code",
   "execution_count": null,
   "metadata": {},
   "outputs": [],
   "source": [
    "# Setup a dataframe to store results\n",
    "columns = ['Site_name', 'Latitude','Longitude']\n",
    "NPH_df = pd.DataFrame(columns=columns)\n",
    "\n",
    "NPH_df['Site_name'] = Site_name\n",
    "NPH_df['Latitude'] = Latitude\n",
    "NPH_df['Longitude'] = Longitude\n",
    "\n",
    "NPH_df.head()"
   ]
  },
  {
   "cell_type": "code",
   "execution_count": null,
   "metadata": {},
   "outputs": [],
   "source": [
    "# Write dataframe to csv\n",
    "# NHP has dirty data not good just showing the work done.\n",
    "# NPH_df.to_csv(r'NPH.csv')\n"
   ]
  },
  {
   "cell_type": "code",
   "execution_count": null,
   "metadata": {},
   "outputs": [],
   "source": [
    "# Curated lists of Provitial Parks and National Parks for Ontario\n",
    "PPont =[\"Aaron Provincial Park\",\"Algonquin Provincial Park\",\"Arrowhead Provincial Park\",\"Arrow Lake Provincial Park\",\"Awenda Provincial Park\",\"Balsam Lake Provincial Park\",\"Bass Lake Provincial Park\",\"Batchawana Bay Provincial Park\",\"Biscotasi Lake Provincial Park\",\"Blue Lake Provincial Park\",\"Bon Echo Provincial Park\",\"Bonnechere Provincial Park\",\"Bronte Creek Provincial Park\",\"Caliper Lake Provincial Park\",\"Charleston Lake Provincial Park\",\"Chutes Provincial Park\",\"Craigleith Provincial Park\",\"Darlington Provincial Park\",\"Driftwood Provincial Park\",\"Earl Rowe Provincial Park\",\"Emily Provincial Park\",\"Esker Lakes Provincial Park\",\"Fairbank Provincial Park\",\"Ferris Provincial Park\",\"Finlayson Point Provincial Park\",\"Fitzroy Provincial Park\",\"Forks of the Credit Provincial Park\",\"French River Provincial Park\",\"Frontenac Provincial Park\",\"Fushimi Lake Provincial Park\",\"Grundy Lake Provincial Park\",\"Halfway Lake Provincial Park\",\"Inverhuron Provincial Park\",\"Ivanhoe Lake Provincial Park\",\"John E. Pearce Provincial Park\",\"Kakabeka Falls Provincial Park\",\"Kap-Kig-Iwan Provincial Park\",\"Kawartha Highlands Provincial Park\",\"Kettle Lakes Provincial Park\",\"Killarney Provincial Park\",\"Killbear Provincial Park\",\"Komoka Provincial Park\",\"Lady Evelyn-Smoothwater Provincial Park\",\"Lake on the Mountain Provincial Park\",\"Lake St. Peter Provincial Park\",\"Lake Superior Provincial Park\",\"Long Point Provincial Park\",\"MacGregor Point Provincial Park\",\"MacLeod Provincial Park\",\"Makobe-Grays River Provincial Park\",\"Mara Provincial Park\",\"Mark S. Burnham Provincial Park\",\"Marten River Provincial Park\",\"McRae Point Provincial Park\",\"Mikisew Provincial Park\",\"Misery Bay Provincial Park\",\"Missinaibi Provincial Park\",\"Mississagi Provincial Park\",\"Mono Cliffs Provincial Park\",\"Murphys Point Provincial Park\",\"Nagagamisis Provincial Park\",\"Neys Provincial Park\",\"North Beach Provincial Park\",\"Oastler Lake Provincial Park\",\"Obabika River Provincial Park\",\"Ojibway Provincial Park\",\"Ouimet Canyon Provincial Park\",\"Oxtongue River - Ragged Falls Provincial Park\",\"Pakwash Provincial Park\",\"Pancake Bay Provincial Park\",\"Petroglyphs Provincial Park\",\"Pigeon River Provincial Park\",\"Pinery Provincial Park\",\"Point Farms Provincial Park\",\"Port Bruce Provincial Park\",\"Port Burwell Provincial Park\",\"Potholes Provincial Park\",\"Presqu'ile Provincial Park\",\"Quetico Provincial Park\",\"Rainbow Falls Provincial Park\",\"René Brunelle Provincial Park\",\"Restoule Provincial Park\",\"Rideau River Provincial Park\",\"Rock Point Provincial Park\",\"Rondeau Provincial Park\",\"Rushing River Provincial Park\",\"Samuel De Champlain Provincial Park\",\"Sandbanks Provincial Park\",\"Sandbar Lake Provincial Park\",\"Sauble Falls Provincial Park\",\"Selkirk Provincial Park\",\"Sharbot Lake Provincial Park\",\"Sibbald Point Provincial Park\",\"Silent Lake Provincial Park\",\"Silver Falls Provincial Park\",\"Silver Lake Provincial Park\",\"Sioux Narrows Provincial Park\",\"Six Mile Lake Provincial Park\",\"Sleeping Giant Provincial Park\",\"Solace Provincial Park\",\"Spanish River Provincial Park\",\"Springwater Provincial Park\",\"Sturgeon Bay Provincial Park\",\"Sturgeon River Provincial Park\",\"The Massasauga Provincial Park\",\"Tidewater Provincial Park\",\"Turkey Point Provincial Park\",\"Voyageur Provincial Park\",\"Wabakimi Provincial Park\",\"Wakami Lake Provincial Park\",\"Wasaga Beach Provincial Park\",\"Wheatley Provincial Park\",\"White Lake Provincial Park\",\"Windy Lake Provincial Park\",\"Woodland Caribou Provincial Park\"]\n",
    "NPont= [\"THOUSAND ISLANDS NATIONAL PARK OF CANADA\",\"POINT PELEE NATIONAL PARK OF CANADA\",\"GEORGIAN BAY ISLANDS NATIONAL PARK OF CANADA\",\"PUKASKWA NATIONAL PARK OF CANADA\",\"BRUCE PENINSULA NATIONAL PARK OF CANADA\"]\n",
    "len(PPont),len(NPont)"
   ]
  },
  {
   "cell_type": "code",
   "execution_count": null,
   "metadata": {},
   "outputs": [],
   "source": [
    "# Setup lists for data extraction\n",
    "Ont_Site_name =[]\n",
    "Ont_Latitude =[]\n",
    "Ont_Longitude =[]"
   ]
  },
  {
   "cell_type": "code",
   "execution_count": null,
   "metadata": {},
   "outputs": [],
   "source": [
    "for i in PPont:\n",
    "    url = ('https://maps.googleapis.com/maps/api/geocode/json?'\n",
    "    'address={0}&key={1}').format(i, gkey)\n",
    "    s_data = requests.get(url).json()\n",
    "    try:\n",
    "        Ont_Site_name.append(s_data[\"results\"][0][\"address_components\"][0][\"long_name\"])\n",
    "        Ont_Latitude.append(s_data[\"results\"][0][\"geometry\"][\"location\"][\"lat\"])\n",
    "        Ont_Longitude.append(s_data[\"results\"][0][\"geometry\"][\"location\"][\"lng\"])\n",
    "    except IndexError as e:\n",
    "        print (e)"
   ]
  },
  {
   "cell_type": "code",
   "execution_count": null,
   "metadata": {},
   "outputs": [],
   "source": [
    "for i in NPont:\n",
    "    url = ('https://maps.googleapis.com/maps/api/geocode/json?'\n",
    "    'address={0}&key={1}').format(i, gkey)\n",
    "    s_data = requests.get(url).json()\n",
    "    try:\n",
    "        Ont_Site_name.append(s_data[\"results\"][0][\"address_components\"][0][\"long_name\"])\n",
    "        Ont_Latitude.append(s_data[\"results\"][0][\"geometry\"][\"location\"][\"lat\"])\n",
    "        Ont_Longitude.append(s_data[\"results\"][0][\"geometry\"][\"location\"][\"lng\"])\n",
    "    except IndexError as e:\n",
    "        print (e)"
   ]
  },
  {
   "cell_type": "code",
   "execution_count": null,
   "metadata": {},
   "outputs": [],
   "source": [
    "columns = ['Site_name', 'Latitude','Longitude']\n",
    "ont_all_parks_df = pd.DataFrame(columns=columns)\n",
    "\n",
    "ont_all_parks_df['Site_name'] = Ont_Site_name\n",
    "ont_all_parks_df['Latitude'] = Ont_Latitude\n",
    "ont_all_parks_df['Longitude'] = Ont_Longitude"
   ]
  },
  {
   "cell_type": "code",
   "execution_count": null,
   "metadata": {},
   "outputs": [],
   "source": [
    "ont_all_parks_df.head()"
   ]
  },
  {
   "cell_type": "code",
   "execution_count": null,
   "metadata": {},
   "outputs": [],
   "source": [
    "# ont_all_parks_df.to_csv(r'All_ONT_PARKS.csv')"
   ]
  },
  {
   "cell_type": "markdown",
   "metadata": {},
   "source": [
    "### A bit of web scraping using pandas"
   ]
  },
  {
   "cell_type": "code",
   "execution_count": null,
   "metadata": {
    "scrolled": true
   },
   "outputs": [],
   "source": [
    "# Get National Historic Sites from web using Pandas\n",
    "nat_historic_sites_df =pd.read_html('https://en.wikipedia.org/wiki/List_of_National_Historic_Sites_of_Canada_in_Ontario')[1]\n",
    "nat_historic_sites_df.head()"
   ]
  },
  {
   "cell_type": "code",
   "execution_count": null,
   "metadata": {},
   "outputs": [],
   "source": [
    "# nat_historic_sites_df.to_csv(r'NAT_HIST_SITES.csv')"
   ]
  },
  {
   "cell_type": "code",
   "execution_count": null,
   "metadata": {},
   "outputs": [],
   "source": [
    "# Collect and record all historic cites for cities in Ontario\n",
    "\n",
    "historic_Ottawa_df = pd.read_html('https://en.wikipedia.org/wiki/List_of_National_Historic_Sites_of_Canada_in_Ottawa')[1]\n",
    "historic_Niagara_df = pd.read_html('https://en.wikipedia.org/wiki/List_of_National_Historic_Sites_of_Canada_in_Niagara_Region')[1]\n",
    "historic_Kingston_df = pd.read_html('https://en.wikipedia.org/wiki/List_of_National_Historic_Sites_of_Canada_in_Kingston,_Ontario')[1]\n",
    "historic_Hamilton_df = pd.read_html('https://en.wikipedia.org/wiki/List_of_National_Historic_Sites_of_Canada_in_Hamilton,_Ontario')[1]\n",
    "historic_Toronto_df =pd.read_html('https://en.wikipedia.org/wiki/List_of_National_Historic_Sites_of_Canada_in_Toronto')[1]\n",
    "\n",
    "# historic_Ottawa_df.to_csv(r'HIST_SITES_OTTAWA.csv')\n",
    "# historic_Niagara_df.to_csv(r'HIST_SITES_NIAGARA.csv')\n",
    "# historic_Kingston_df.to_csv(r'HIST_SITES_KINGSTON.csv')\n",
    "# historic_Hamilton_df.to_csv(r'HIST_SITES_HAMILTON.csv')\n",
    "# historic_Toronto_df.to_csv(r'HIST_SITES_TORONTO.csv')"
   ]
  },
  {
   "cell_type": "code",
   "execution_count": null,
   "metadata": {},
   "outputs": [],
   "source": [
    "# Collect and record Ontario Museums infomration\n",
    "museums_Ontario_df = pd.read_html('https://en.wikipedia.org/wiki/List_of_museums_in_Ontario')[0]\n",
    "museums_Ontario_df.head()\n",
    "# museums_Ontario_df.to_csv(r'MUSEUMS_ONTARIO.csv')"
   ]
  },
  {
   "cell_type": "markdown",
   "metadata": {},
   "source": [
    "### Some more Google API"
   ]
  },
  {
   "cell_type": "code",
   "execution_count": null,
   "metadata": {},
   "outputs": [],
   "source": [
    "# Get museum coordinates\n",
    "\n",
    "OMUSE_name =[]\n",
    "OMUSE_Latitude =[]\n",
    "OMUSE_Longitude =[]\n",
    "\n",
    "MUSE = museums_Ontario_df['Name']\n",
    "\n",
    "for i in MUSE:\n",
    "    url = ('https://maps.googleapis.com/maps/api/geocode/json?'\n",
    "    'address={0}&key={1}').format(i, gkey)\n",
    "    s_data = requests.get(url).json()\n",
    "    try:\n",
    "        OMUSE_name.append(s_data[\"results\"][0][\"address_components\"][0][\"long_name\"])\n",
    "        OMUSE_Latitude.append(s_data[\"results\"][0][\"geometry\"][\"location\"][\"lat\"])\n",
    "        OMUSE_Longitude.append(s_data[\"results\"][0][\"geometry\"][\"location\"][\"lng\"])\n",
    "    except IndexError as e:\n",
    "        print (e)"
   ]
  },
  {
   "cell_type": "code",
   "execution_count": null,
   "metadata": {},
   "outputs": [],
   "source": [
    "# setup Museum DF\n",
    "\n",
    "columns = ['Site_name', 'Latitude','Longitude']\n",
    "ont_museums_df = pd.DataFrame(columns=columns)\n",
    "\n",
    "ont_museums_df['Site_name'] = OMUSE_name\n",
    "ont_museums_df['Latitude'] = OMUSE_Latitude\n",
    "ont_museums_df['Longitude'] = OMUSE_Longitude"
   ]
  },
  {
   "cell_type": "code",
   "execution_count": null,
   "metadata": {},
   "outputs": [],
   "source": [
    "# ont_museums_df.to_csv(r'ALL__ONT_MUSEUMS.csv')\n",
    "# Dirty Data not good "
   ]
  },
  {
   "cell_type": "markdown",
   "metadata": {},
   "source": [
    "### Data collection Yelp API"
   ]
  },
  {
   "cell_type": "code",
   "execution_count": null,
   "metadata": {},
   "outputs": [],
   "source": [
    "# start using Yelp to collect data\n",
    "# curated list of cities\n",
    "cities = [\"St. George, Ontario\",\"Kingston, Ontario\",\"Whitney, Ontario\",\"Sarnia, Ontario\",\"Napanee, Ontario\",\"Ameliasburgh, Ontario\",\"Lively, Ontario\",\"Tillsonburg, Ontario\",\"Vankleek Hill, Ontario\",\"Arkona, Ontario\",\"Arnprior, Ontario\",\"Sault Ste. Marie, Ontario\",\"Hamilton, Ontario\",\"Mississauga, Ontario\",\"Cobourg, Ontario\",\"Peterborough, Ontario\",\"Sudbury, Ontario\",\"Windsor, Ontario\",\"Kitchener, Ontario\",\"Gananoque, Ontario\",\"Assiginack, Ontario\",\"Atikokan, Ontario\",\"Ottawa, Ontario\",\"Aurora, Ontario\",\"Aylmer, Ontario\",\"Port Rowan, Ontario\",\"Wallacetown, Ontario\",\"Bala, Ontario\",\"Ball's Falls, Ontario\",\"Bancroft, Ontario\",\"London, Ontario\",\"Wingham, Ontario\",\"Grafton, Ontario\",\"Borden, Ontario\",\"Bath, Ontario\",\"Niagara Falls, Ontario\",\"Prescott, Ontario\",\"Beachville, Ontario\",\"Beaverton, Ontario\",\"Brantford, Ontario\",\"Belleville, Ontario\",\"Gravenhurst, Ontario\",\"Williamstown, Ontario\",\"Owen Sound, Ontario\",\"Merrickville, Ontario\",\"Parry Sound, Ontario\",\"Bonnechere, Ontario\",\"Bothwell, Ontario\",\"Bowmanville, Ontario\",\"Bobcaygeon, Ontario\",\"Stratford, Ontario\",\"Brockville, Ontario\",\"Waterloo, Ontario\",\"Southampton, Ontario\",\"Bruce Mines, Ontario\",\"Cobalt, Ontario\",\"Burlington, Ontario\",\"North Buxton, Ontario\",\"Collingwood, Ontario\",\"Caledonia, Ontario\",\"Callander, Ontario\",\"Cambridge, Ontario\",\"Campbellford, Ontario\",\"St. Williams, Ontario\",\"Oshawa, Ontario\",\"St. Marys, Ontario\",\"Deep River, Ontario\",\"Rainham Centre, Ontario\",\"Port Hope, Ontario\",\"North Bay, Ontario\",\"Oakville, Ontario\",\"Richmond Hill, Ontario\",\"Vaughan, Ontario\",\"Kingsville, Ontario\",\"Cannington, Ontario\",\"Carleton Place, Ontario\",\"Iroquois, Ontario\",\"Baden, Ontario\",\"Sheguiandah, Ontario\",\"Thunder Bay, Ontario\",\"Mindemoya, Ontario\",\"Petawawa, Ontario\",\"Pembroke, Ontario\",\"Chapleau, Ontario\",\"Chapple, Ontario\",\"Chathamâ€“Kent, Ontario\",\"Chatham-Kent, Ontario\",\"Chesley, Ontario\",\"Chesterville, Ontario\",\"Ohsweken, Ontario\",\"Lakefield, Ontario\",\"Powassan, Ontario\",\"Kirby, Ontario\",\"Cloyne, Ontario\",\"Cochrane, Ontario\",\"Coldwater, Ontario\",\"Lakeshore, Ontario\",\"Commanda, Ontario\",\"Copper Cliff, Ontario\",\"Cornwall, Ontario\",\"Selkirk, Ontario\",\"Milton, Ontario\",\"Blue Mountains, Ontario\",\"Campbellville, Ontario\",\"Balmertown, Ontario\",\"Cumberland, Ontario\",\"Delhi, Ontario\",\"Carp, Ontario\",\"Penetanguishene, Ontario\",\"Ailsa Craig, Ontario\",\"Dorset, Ontario\",\"Dryden, Ontario\",\"Rosemont, Ontario\",\"Dundas, Ontario\",\"Durham, Ontario\",\"Ear Falls, Ontario\",\"Cayuga, Ontario\",\"Vienna, Ontario\",\"St. Thomas, Ontario\",\"Elliot Lake, Ontario\",\"Newmarket, Ontario\",\"Englehart, Ontario\",\"Stoney Creek, Ontario\",\"McGregor, Ontario\",\"Simcoe, Ontario\",\"Thamesville, Ontario\",\"Stirling, Ontario\",\"Ancaster, Ontario\",\"Forest, Ontario\",\"Fort Erie, Ontario\",\"Ridgeway, Ontario\",\"Fort Frances, Ontario\",\"Niagara-on-the-Lake, Ontario\",\"Amherstburg, Ontario\",\"St. Joseph Island, Ontario\",\"Kanata, Ontario\",\"Markham, Ontario\",\"Wiarton, Ontario\",\"Barrie, Ontario\",\"Keswick, Ontario\",\"Dunvegan, Ontario\",\"Maxville, Ontario\",\"Gore Bay, Ontario\",\"Stittsville, Ontario\",\"Brampton, Ontario\",\"Georgian Bluffs, Ontario\",\"Grimsby, Ontario\",\"Guelph, Ontario\",\"Haileybury, Ontario\",\"Haliburton, Ontario\",\"Smiths Falls, Ontario\",\"Kinmount, Ontario\",\"Killaloe, Hagarty and Richards, Ontario\",\"Kirkland Lake, Ontario\",\"Maitland, Ontario\",\"Fenelon Falls, Ontario\",\"Seguin, Ontario\",\"Goderich, Ontario\",\"Midland, Ontario\",\"Kakabeka Falls, Ontario\",\"Ignace, Ontario\",\"Ingersoll, Ontario\",\"Innisville, Ontario\",\"Iron Bridge, Ontario\",\"Iroquois Falls, Ontario\",\"Harrow, Ontario\",\"Meaford, Ontario\",\"Jordan, Ontario\",\"Stratton, Ontario\",\"Russell, Ontario\",\"Killarney, Ontario\",\"King City, Ontario\",\"Lucknow, Ontario\",\"Komoka, Ontario\",\"Kenora, Ontario\",\"Lambton, Ontario\",\"Lanark, Ontario\",\"Stouffville, Ontario\",\"Queenston, Ontario\",\"Lindsay, Ontario\",\"New Liskeard, Ontario\",\"South Baymouth, Ontario\",\"Chaffey's Lock, Ontario\",\"L'Orignal, Ontario\",\"Long Sault, Ontario\",\"Lucan, Ontario\",\"Picton, Ontario\",\"Combermere, Ontario\",\"Chute-Ã -Blondeau, Ontario\",\"Marathon, Ontario\",\"Milford, Ontario\",\"Marten River, Ontario\",\"Massey, Ontario\",\"Mattawa, Ontario\",\"Renfrew, Ontario\",\"Kleinburg, Ontario\",\"Brighton, Ontario\",\"Middleville, Ontario\",\"Minden Hills, Ontario\",\"Little Current, Ontario\",\"Almonte, Ontario\",\"Mooretown, Ontario\",\"St. Catharines, Ontario\",\"Alliston, Ontario\",\"Strathroy-Caradoc, Ontario\",\"Victoria Road, Ontario\",\"Huntsville, Ontario\",\"Port Carling, Ontario\",\"Wasaga Beach, Ontario\",\"Trenton, Ontario\",\"Nepean, Ontario\",\"Meldrum Bay, Ontario\",\"Nipissing, Ontario\",\"Dunnville, Ontario\",\"Appleton, Ontario\",\"Capreol, Ontario\",\"Norwich, Ontario\",\"Madoc, Ontario\",\"Oil Springs, Ontario\",\"Kagawong, Ontario\",\"Delta, Ontario\",\"Golden Lake, Ontario\",\"Orillia, Ontario\",\"Frankford, Ontario\",\"Osgood Township, Ontario\",\"Kincardine, Ontario\",\"Palmerston, Ontario\",\"Paris, Ontario\",\"Pelee Island, Ontario\",\"Perth, Ontario\",\"Woodview, Ontario\",\"Petrolia, Ontario\",\"Pickering, Ontario\",\"Dunrobin, Ontario\",\"Port Burwell, Ontario\",\"Port Colborne, Ontario\",\"Port Dover, Ontario\",\"Prince, Ontario\",\"Princeton, Ontario\",\"Mississippi Mills, Ontario\",\"Moosonee, Ontario\",\"Emo, Ontario\",\"Rainy River, Ontario\",\"St. Andrews, Ontario\",\"Azilda, Ontario\",\"Red Lake, Ontario\",\"Westport, Ontario\",\"Ridgetown, Ontario\",\"Kapuskasing, Ontario\",\"Akwesasne, Ontario\",\"Waupoos, Ontario\",\"Whitewater Region, Ontario\",\"Plummer Additional, Ontario\",\"Clinton, Ontario\",\"Port Perry, Ontario\",\"Sharon, Ontario\",\"Clarksburg, Ontario\",\"Sutton, Ontario\",\"Minesing, Ontario\",\"Sioux Lookout, Ontario\",\"Mount Brydges, Ontario\",\"Sombra, Ontario\",\"Flesherton, Ontario\",\"Barry's Bay, Ontario\",\"Essex, Ontario\",\"Bronte, Ontario\",\"Spencerville, Ontario\",\"Tobermory, Ontario\",\"St. Jacobs, Ontario\",\"Zurich, Ontario\",\"Stanhope, Ontario\",\"Quinte West, Ontario\",\"Sturgeon Falls, Ontario\",\"Kars, Ontario\",\"Teeterville, Ontario\",\"Matheson, Ontario\",\"Thorold, Ontario\",\"Blind River, Ontario\",\"Timmins, Ontario\",\"Paisley, Ontario\",\"Waterdown, Ontario\",\"Tweed, Ontario\",\"Dresden, Ontario\",\"Adolphustown, Ontario\",\"Morrisburg, Ontario\",\"Uxbridge, Ontario\",\"White Lake, Ontario\",\"Wallaceburg, Ontario\",\"Waterford, Ontario\",\"Manotick, Ontario\",\"Welland, Ontario\",\"Fergus, Ontario\",\"Wellington, Ontario\",\"Rockton, Ontario\",\"Vandorf, Ontario\",\"Wilberforce, Ontario\",\"Wilno, Ontario\",\"Bracebridge, Ontario\",\"Woodstock, Ontario\",\"Omemee, Ontario\"]"
   ]
  },
  {
   "cell_type": "code",
   "execution_count": null,
   "metadata": {},
   "outputs": [],
   "source": [
    "# setup dictionary\n",
    "ont_museums_dict = {\n",
    "                    'Yelp_ID':[],'Business_Name':[],\n",
    "                    'Business_type':[],'City':[],'country':[],\n",
    "                    'Address':[], 'Zipcode':[],\n",
    "                    'Latitude':[],'Longitude':[],'url':[]\n",
    "                        }"
   ]
  },
  {
   "cell_type": "code",
   "execution_count": null,
   "metadata": {},
   "outputs": [],
   "source": [
    "# Extract data\n",
    "counter = 0\n",
    "for i in cities:\n",
    "    api_key = ykey\n",
    "    headers = {'Authorization': 'Bearer %s' % api_key}\n",
    "    params = {'categories':'museums','location':i,'limit':'50'}\n",
    "    url = \"https://api.yelp.com/v3/businesses/search?\"\n",
    "    req=requests.get(url, params=params, headers=headers)\n",
    "    counter = counter + 1\n",
    "    print('The status code is {}'.format(req.status_code), counter)\n",
    "    results= json.loads(req.text)\n",
    "    for r in range(len(results[\"businesses\"])):\n",
    "        ont_museums_dict['Yelp_ID'].append(results['businesses'][r]['id'])\n",
    "        ont_museums_dict['Business_Name'].append(results['businesses'][r]['name'])\n",
    "        ont_museums_dict['Business_type'].append(results['businesses'][r]['categories'][0]['title'])\n",
    "        ont_museums_dict['City'].append(results['businesses'][r][\"location\"][\"city\"])\n",
    "        ont_museums_dict['Address'].append(results[\"businesses\"][r]['location']['address1'])\n",
    "        ont_museums_dict['Zipcode'].append(results['businesses'][r]['location']['zip_code'])\n",
    "        ont_museums_dict['country'].append(results['businesses'][r]['location']['country'])\n",
    "        ont_museums_dict['Latitude'].append(results['businesses'][r]['coordinates']['latitude'])\n",
    "        ont_museums_dict['Longitude'].append(results['businesses'][r]['coordinates']['longitude'])\n",
    "        ont_museums_dict['url'].append(results['businesses'][r]['url'])\n",
    "        \n",
    "    "
   ]
  },
  {
   "cell_type": "code",
   "execution_count": null,
   "metadata": {},
   "outputs": [],
   "source": [
    "ont_museums_df = pd.DataFrame(ont_museums_dict)\n",
    "ont_museums_df.head()"
   ]
  },
  {
   "cell_type": "code",
   "execution_count": null,
   "metadata": {},
   "outputs": [],
   "source": [
    "# ont_museums_df.to_csv(r'MUSEUMS_ONTARIO_YELP_DATA.csv')"
   ]
  },
  {
   "cell_type": "code",
   "execution_count": null,
   "metadata": {},
   "outputs": [],
   "source": [
    "ont_zoos_dict = {\n",
    "                    'Yelp_ID':[],'Business_Name':[],\n",
    "                    'Business_type':[],'City':[],'country':[],\n",
    "                    'Address':[], 'Zipcode':[],\n",
    "                    'Latitude':[],'Longitude':[],'url':[]\n",
    "                        }"
   ]
  },
  {
   "cell_type": "code",
   "execution_count": null,
   "metadata": {},
   "outputs": [],
   "source": [
    "# Extract data\n",
    "counter = 0\n",
    "for i in cities:\n",
    "    api_key = ykey\n",
    "    headers = {'Authorization': 'Bearer %s' % api_key}\n",
    "    params = {'categories':'zoos','location':i,'limit':'50'}\n",
    "    url = \"https://api.yelp.com/v3/businesses/search?\"\n",
    "    req=requests.get(url, params=params, headers=headers)\n",
    "    counter = counter + 1\n",
    "    print('The status code is {}'.format(req.status_code), counter)\n",
    "    results= json.loads(req.text)\n",
    "    for r in range(len(results[\"businesses\"])):\n",
    "        ont_zoos_dict['Yelp_ID'].append(results['businesses'][r]['id'])\n",
    "        ont_zoos_dict['Business_Name'].append(results['businesses'][r]['name'])\n",
    "        ont_zoos_dict['Business_type'].append(results['businesses'][r]['categories'][0]['title'])\n",
    "        ont_zoos_dict['City'].append(results['businesses'][r][\"location\"][\"city\"])\n",
    "        ont_zoos_dict['Address'].append(results[\"businesses\"][r]['location']['address1'])\n",
    "        ont_zoos_dict['Zipcode'].append(results['businesses'][r]['location']['zip_code'])\n",
    "        ont_zoos_dict['country'].append(results['businesses'][r]['location']['country'])\n",
    "        ont_zoos_dict['Latitude'].append(results['businesses'][r]['coordinates']['latitude'])\n",
    "        ont_zoos_dict['Longitude'].append(results['businesses'][r]['coordinates']['longitude'])\n",
    "        ont_zoos_dict['url'].append(results['businesses'][r]['url'])"
   ]
  },
  {
   "cell_type": "code",
   "execution_count": null,
   "metadata": {},
   "outputs": [],
   "source": [
    "ont_zoos_df = pd.DataFrame(ont_zoos_dict)\n",
    "# ont_zoos_df.to_csv(r'ZOOS_ONTARIO_YELP_DATA.csv')"
   ]
  },
  {
   "cell_type": "code",
   "execution_count": null,
   "metadata": {},
   "outputs": [],
   "source": [
    "ont_zoos_df.head()"
   ]
  },
  {
   "cell_type": "code",
   "execution_count": null,
   "metadata": {},
   "outputs": [],
   "source": []
  }
 ],
 "metadata": {
  "kernelspec": {
   "display_name": "Python 3",
   "language": "python",
   "name": "python3"
  },
  "language_info": {
   "codemirror_mode": {
    "name": "ipython",
    "version": 3
   },
   "file_extension": ".py",
   "mimetype": "text/x-python",
   "name": "python",
   "nbconvert_exporter": "python",
   "pygments_lexer": "ipython3",
   "version": "3.7.3"
  }
 },
 "nbformat": 4,
 "nbformat_minor": 2
}
